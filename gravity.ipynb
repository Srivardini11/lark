{
  "nbformat": 4,
  "nbformat_minor": 0,
  "metadata": {
    "colab": {
      "name": "gravity.ipynb",
      "provenance": [],
      "authorship_tag": "ABX9TyMzIEEwLGV7QzacH2VfR+OZ",
      "include_colab_link": true
    },
    "kernelspec": {
      "name": "python3",
      "display_name": "Python 3"
    },
    "language_info": {
      "name": "python"
    }
  },
  "cells": [
    {
      "cell_type": "markdown",
      "metadata": {
        "id": "view-in-github",
        "colab_type": "text"
      },
      "source": [
        "<a href=\"https://colab.research.google.com/github/Srivardini11/lark/blob/main/gravity.ipynb\" target=\"_parent\"><img src=\"https://colab.research.google.com/assets/colab-badge.svg\" alt=\"Open In Colab\"/></a>"
      ]
    },
    {
      "cell_type": "code",
      "execution_count": 2,
      "metadata": {
        "colab": {
          "base_uri": "https://localhost:8080/"
        },
        "id": "Jyksg6xbIBjM",
        "outputId": "c2e78a16-e37f-452b-df27-6b5d4ee714f0"
      },
      "outputs": [
        {
          "output_type": "stream",
          "name": "stdout",
          "text": [
            "Collecting lightkurve\n",
            "  Downloading lightkurve-2.0.11-py3-none-any.whl (247 kB)\n",
            "\u001b[?25l\r\u001b[K     |█▎                              | 10 kB 18.2 MB/s eta 0:00:01\r\u001b[K     |██▋                             | 20 kB 15.2 MB/s eta 0:00:01\r\u001b[K     |████                            | 30 kB 9.9 MB/s eta 0:00:01\r\u001b[K     |█████▎                          | 40 kB 9.1 MB/s eta 0:00:01\r\u001b[K     |██████▋                         | 51 kB 4.5 MB/s eta 0:00:01\r\u001b[K     |████████                        | 61 kB 4.7 MB/s eta 0:00:01\r\u001b[K     |█████████▎                      | 71 kB 4.7 MB/s eta 0:00:01\r\u001b[K     |██████████▋                     | 81 kB 5.2 MB/s eta 0:00:01\r\u001b[K     |████████████                    | 92 kB 5.3 MB/s eta 0:00:01\r\u001b[K     |█████████████▎                  | 102 kB 4.2 MB/s eta 0:00:01\r\u001b[K     |██████████████▋                 | 112 kB 4.2 MB/s eta 0:00:01\r\u001b[K     |███████████████▉                | 122 kB 4.2 MB/s eta 0:00:01\r\u001b[K     |█████████████████▏              | 133 kB 4.2 MB/s eta 0:00:01\r\u001b[K     |██████████████████▌             | 143 kB 4.2 MB/s eta 0:00:01\r\u001b[K     |███████████████████▉            | 153 kB 4.2 MB/s eta 0:00:01\r\u001b[K     |█████████████████████▏          | 163 kB 4.2 MB/s eta 0:00:01\r\u001b[K     |██████████████████████▌         | 174 kB 4.2 MB/s eta 0:00:01\r\u001b[K     |███████████████████████▉        | 184 kB 4.2 MB/s eta 0:00:01\r\u001b[K     |█████████████████████████▏      | 194 kB 4.2 MB/s eta 0:00:01\r\u001b[K     |██████████████████████████▌     | 204 kB 4.2 MB/s eta 0:00:01\r\u001b[K     |███████████████████████████▉    | 215 kB 4.2 MB/s eta 0:00:01\r\u001b[K     |█████████████████████████████▏  | 225 kB 4.2 MB/s eta 0:00:01\r\u001b[K     |██████████████████████████████▍ | 235 kB 4.2 MB/s eta 0:00:01\r\u001b[K     |███████████████████████████████▊| 245 kB 4.2 MB/s eta 0:00:01\r\u001b[K     |████████████████████████████████| 247 kB 4.2 MB/s \n",
            "\u001b[?25hRequirement already satisfied: numpy>=1.11 in /usr/local/lib/python3.7/dist-packages (from lightkurve) (1.19.5)\n",
            "Requirement already satisfied: astropy>=4.1 in /usr/local/lib/python3.7/dist-packages (from lightkurve) (4.3.1)\n",
            "Requirement already satisfied: beautifulsoup4>=4.6.0 in /usr/local/lib/python3.7/dist-packages (from lightkurve) (4.6.3)\n",
            "Collecting fbpca>=1.0\n",
            "  Downloading fbpca-1.0.tar.gz (11 kB)\n",
            "Collecting memoization>=0.3.1\n",
            "  Downloading memoization-0.4.0.tar.gz (41 kB)\n",
            "\u001b[K     |████████████████████████████████| 41 kB 153 kB/s \n",
            "\u001b[?25hRequirement already satisfied: patsy>=0.5.0 in /usr/local/lib/python3.7/dist-packages (from lightkurve) (0.5.2)\n",
            "Requirement already satisfied: scikit-learn>=0.24.0 in /usr/local/lib/python3.7/dist-packages (from lightkurve) (1.0.1)\n",
            "Requirement already satisfied: tqdm>=4.25.0 in /usr/local/lib/python3.7/dist-packages (from lightkurve) (4.62.3)\n",
            "Requirement already satisfied: bokeh>=1.0 in /usr/local/lib/python3.7/dist-packages (from lightkurve) (2.3.3)\n",
            "Requirement already satisfied: requests>=2.22.0 in /usr/local/lib/python3.7/dist-packages (from lightkurve) (2.23.0)\n",
            "Requirement already satisfied: scipy>=0.19.0 in /usr/local/lib/python3.7/dist-packages (from lightkurve) (1.4.1)\n",
            "Collecting uncertainties>=3.1.4\n",
            "  Downloading uncertainties-3.1.6-py2.py3-none-any.whl (98 kB)\n",
            "\u001b[K     |████████████████████████████████| 98 kB 6.2 MB/s \n",
            "\u001b[?25hRequirement already satisfied: pandas>=1.1.4 in /usr/local/lib/python3.7/dist-packages (from lightkurve) (1.1.5)\n",
            "Requirement already satisfied: matplotlib>=1.5.3 in /usr/local/lib/python3.7/dist-packages (from lightkurve) (3.2.2)\n",
            "Collecting astroquery>=0.3.10\n",
            "  Downloading astroquery-0.4.4-py3-none-any.whl (4.5 MB)\n",
            "\u001b[K     |████████████████████████████████| 4.5 MB 41.8 MB/s \n",
            "\u001b[?25hCollecting oktopus>=0.1.2\n",
            "  Downloading oktopus-0.1.2.tar.gz (10 kB)\n",
            "Requirement already satisfied: pyerfa>=1.7.3 in /usr/local/lib/python3.7/dist-packages (from astropy>=4.1->lightkurve) (2.0.0.1)\n",
            "Requirement already satisfied: importlib-metadata in /usr/local/lib/python3.7/dist-packages (from astropy>=4.1->lightkurve) (4.8.2)\n",
            "Requirement already satisfied: html5lib>=0.999 in /usr/local/lib/python3.7/dist-packages (from astroquery>=0.3.10->lightkurve) (1.0.1)\n",
            "Collecting pyvo>=1.1\n",
            "  Downloading pyvo-1.1-py3-none-any.whl (802 kB)\n",
            "\u001b[K     |████████████████████████████████| 802 kB 50.6 MB/s \n",
            "\u001b[?25hCollecting keyring>=4.0\n",
            "  Downloading keyring-23.4.0-py3-none-any.whl (33 kB)\n",
            "Requirement already satisfied: tornado>=5.1 in /usr/local/lib/python3.7/dist-packages (from bokeh>=1.0->lightkurve) (5.1.1)\n",
            "Requirement already satisfied: Jinja2>=2.9 in /usr/local/lib/python3.7/dist-packages (from bokeh>=1.0->lightkurve) (2.11.3)\n",
            "Requirement already satisfied: pillow>=7.1.0 in /usr/local/lib/python3.7/dist-packages (from bokeh>=1.0->lightkurve) (7.1.2)\n",
            "Requirement already satisfied: PyYAML>=3.10 in /usr/local/lib/python3.7/dist-packages (from bokeh>=1.0->lightkurve) (3.13)\n",
            "Requirement already satisfied: python-dateutil>=2.1 in /usr/local/lib/python3.7/dist-packages (from bokeh>=1.0->lightkurve) (2.8.2)\n",
            "Requirement already satisfied: typing-extensions>=3.7.4 in /usr/local/lib/python3.7/dist-packages (from bokeh>=1.0->lightkurve) (3.10.0.2)\n",
            "Requirement already satisfied: packaging>=16.8 in /usr/local/lib/python3.7/dist-packages (from bokeh>=1.0->lightkurve) (21.3)\n",
            "Requirement already satisfied: six>=1.9 in /usr/local/lib/python3.7/dist-packages (from html5lib>=0.999->astroquery>=0.3.10->lightkurve) (1.15.0)\n",
            "Requirement already satisfied: webencodings in /usr/local/lib/python3.7/dist-packages (from html5lib>=0.999->astroquery>=0.3.10->lightkurve) (0.5.1)\n",
            "Requirement already satisfied: MarkupSafe>=0.23 in /usr/local/lib/python3.7/dist-packages (from Jinja2>=2.9->bokeh>=1.0->lightkurve) (2.0.1)\n",
            "Collecting jeepney>=0.4.2\n",
            "  Downloading jeepney-0.7.1-py3-none-any.whl (54 kB)\n",
            "\u001b[K     |████████████████████████████████| 54 kB 2.0 MB/s \n",
            "\u001b[?25hCollecting SecretStorage>=3.2\n",
            "  Downloading SecretStorage-3.3.1-py3-none-any.whl (15 kB)\n",
            "Requirement already satisfied: zipp>=0.5 in /usr/local/lib/python3.7/dist-packages (from importlib-metadata->astropy>=4.1->lightkurve) (3.6.0)\n",
            "Requirement already satisfied: pyparsing!=2.0.4,!=2.1.2,!=2.1.6,>=2.0.1 in /usr/local/lib/python3.7/dist-packages (from matplotlib>=1.5.3->lightkurve) (3.0.6)\n",
            "Requirement already satisfied: cycler>=0.10 in /usr/local/lib/python3.7/dist-packages (from matplotlib>=1.5.3->lightkurve) (0.11.0)\n",
            "Requirement already satisfied: kiwisolver>=1.0.1 in /usr/local/lib/python3.7/dist-packages (from matplotlib>=1.5.3->lightkurve) (1.3.2)\n",
            "Requirement already satisfied: autograd in /usr/local/lib/python3.7/dist-packages (from oktopus>=0.1.2->lightkurve) (1.3)\n",
            "Requirement already satisfied: pytz>=2017.2 in /usr/local/lib/python3.7/dist-packages (from pandas>=1.1.4->lightkurve) (2018.9)\n",
            "Collecting mimeparse\n",
            "  Downloading mimeparse-0.1.3.tar.gz (4.4 kB)\n",
            "Requirement already satisfied: certifi>=2017.4.17 in /usr/local/lib/python3.7/dist-packages (from requests>=2.22.0->lightkurve) (2021.10.8)\n",
            "Requirement already satisfied: chardet<4,>=3.0.2 in /usr/local/lib/python3.7/dist-packages (from requests>=2.22.0->lightkurve) (3.0.4)\n",
            "Requirement already satisfied: urllib3!=1.25.0,!=1.25.1,<1.26,>=1.21.1 in /usr/local/lib/python3.7/dist-packages (from requests>=2.22.0->lightkurve) (1.24.3)\n",
            "Requirement already satisfied: idna<3,>=2.5 in /usr/local/lib/python3.7/dist-packages (from requests>=2.22.0->lightkurve) (2.10)\n",
            "Requirement already satisfied: joblib>=0.11 in /usr/local/lib/python3.7/dist-packages (from scikit-learn>=0.24.0->lightkurve) (1.1.0)\n",
            "Requirement already satisfied: threadpoolctl>=2.0.0 in /usr/local/lib/python3.7/dist-packages (from scikit-learn>=0.24.0->lightkurve) (3.0.0)\n",
            "Collecting cryptography>=2.0\n",
            "  Downloading cryptography-36.0.1-cp36-abi3-manylinux_2_24_x86_64.whl (3.6 MB)\n",
            "\u001b[K     |████████████████████████████████| 3.6 MB 41.3 MB/s \n",
            "\u001b[?25hRequirement already satisfied: cffi>=1.12 in /usr/local/lib/python3.7/dist-packages (from cryptography>=2.0->SecretStorage>=3.2->keyring>=4.0->astroquery>=0.3.10->lightkurve) (1.15.0)\n",
            "Requirement already satisfied: pycparser in /usr/local/lib/python3.7/dist-packages (from cffi>=1.12->cryptography>=2.0->SecretStorage>=3.2->keyring>=4.0->astroquery>=0.3.10->lightkurve) (2.21)\n",
            "Requirement already satisfied: future in /usr/local/lib/python3.7/dist-packages (from uncertainties>=3.1.4->lightkurve) (0.16.0)\n",
            "Building wheels for collected packages: fbpca, memoization, oktopus, mimeparse\n",
            "  Building wheel for fbpca (setup.py) ... \u001b[?25l\u001b[?25hdone\n",
            "  Created wheel for fbpca: filename=fbpca-1.0-py3-none-any.whl size=11376 sha256=f9fb951537967b4cedbf9da5952677615876a01359e716b8021ef7aec54c0ec3\n",
            "  Stored in directory: /root/.cache/pip/wheels/93/08/0c/1b9866c35c8d3f136d100dfe88036a32e0795437daca089f70\n",
            "  Building wheel for memoization (setup.py) ... \u001b[?25l\u001b[?25hdone\n",
            "  Created wheel for memoization: filename=memoization-0.4.0-py3-none-any.whl size=50466 sha256=c9ccc7dc77ffb8b2f46e90aee4458aadb62c40bb12500015f63e67067ba48eab\n",
            "  Stored in directory: /root/.cache/pip/wheels/38/f7/65/161985e7311dd484a23b3a5c9149995dbf11db6cede602e7ef\n",
            "  Building wheel for oktopus (setup.py) ... \u001b[?25l\u001b[?25hdone\n",
            "  Created wheel for oktopus: filename=oktopus-0.1.2-py3-none-any.whl size=12778 sha256=0155b1cbb610eb8534eba0b9fe2a446066b66aa26f5a102bfcb12ffcc2700d4c\n",
            "  Stored in directory: /root/.cache/pip/wheels/19/22/e3/6d224a32d6f94f28113d6d26c8bef81d7e05978d0efed29517\n",
            "  Building wheel for mimeparse (setup.py) ... \u001b[?25l\u001b[?25hdone\n",
            "  Created wheel for mimeparse: filename=mimeparse-0.1.3-py3-none-any.whl size=3864 sha256=4a3bb093dd21520297ea6757f831cd708c8f665bec5c9e642c7ac522dc16a949\n",
            "  Stored in directory: /root/.cache/pip/wheels/49/b4/2d/0081759ae1833bd694024801f7aacddcda8a687e8d5fbaeebd\n",
            "Successfully built fbpca memoization oktopus mimeparse\n",
            "Installing collected packages: jeepney, cryptography, SecretStorage, mimeparse, pyvo, keyring, uncertainties, oktopus, memoization, fbpca, astroquery, lightkurve\n",
            "Successfully installed SecretStorage-3.3.1 astroquery-0.4.4 cryptography-36.0.1 fbpca-1.0 jeepney-0.7.1 keyring-23.4.0 lightkurve-2.0.11 memoization-0.4.0 mimeparse-0.1.3 oktopus-0.1.2 pyvo-1.1 uncertainties-3.1.6\n"
          ]
        }
      ],
      "source": [
        "import matplotlib.pyplot as plt\n",
        "import numpy as np\n",
        "!pip install lightkurve\n",
        "import lightkurve as lk"
      ]
    },
    {
      "cell_type": "code",
      "source": [
        ""
      ],
      "metadata": {
        "id": "Wxrkg4fIIY0e"
      },
      "execution_count": null,
      "outputs": []
    }
  ]
}