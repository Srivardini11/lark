{
  "nbformat": 4,
  "nbformat_minor": 0,
  "metadata": {
    "colab": {
      "name": "Untitled3.ipynb",
      "provenance": [],
      "authorship_tag": "ABX9TyMnEw8iX3PGu2OhcHysN4oK",
      "include_colab_link": true
    },
    "kernelspec": {
      "name": "python3",
      "display_name": "Python 3"
    },
    "language_info": {
      "name": "python"
    }
  },
  "cells": [
    {
      "cell_type": "markdown",
      "metadata": {
        "id": "view-in-github",
        "colab_type": "text"
      },
      "source": [
        "<a href=\"https://colab.research.google.com/github/Srivardini11/lark/blob/main/Untitled3.ipynb\" target=\"_parent\"><img src=\"https://colab.research.google.com/assets/colab-badge.svg\" alt=\"Open In Colab\"/></a>"
      ]
    },
    {
      "cell_type": "code",
      "source": [
        "!pip install lightkurve --quiet"
      ],
      "metadata": {
        "colab": {
          "base_uri": "https://localhost:8080/"
        },
        "id": "0SsncUMc-XvD",
        "outputId": "3414a761-4396-4c51-9aba-517017d6087a"
      },
      "execution_count": 2,
      "outputs": [
        {
          "output_type": "stream",
          "name": "stdout",
          "text": [
            "\u001b[?25l\r\u001b[K     |█▎                              | 10 kB 22.7 MB/s eta 0:00:01\r\u001b[K     |██▋                             | 20 kB 29.1 MB/s eta 0:00:01\r\u001b[K     |████                            | 30 kB 19.6 MB/s eta 0:00:01\r\u001b[K     |█████▎                          | 40 kB 16.1 MB/s eta 0:00:01\r\u001b[K     |██████▋                         | 51 kB 8.5 MB/s eta 0:00:01\r\u001b[K     |████████                        | 61 kB 8.7 MB/s eta 0:00:01\r\u001b[K     |█████████▎                      | 71 kB 8.8 MB/s eta 0:00:01\r\u001b[K     |██████████▋                     | 81 kB 9.7 MB/s eta 0:00:01\r\u001b[K     |████████████                    | 92 kB 10.2 MB/s eta 0:00:01\r\u001b[K     |█████████████▎                  | 102 kB 8.2 MB/s eta 0:00:01\r\u001b[K     |██████████████▋                 | 112 kB 8.2 MB/s eta 0:00:01\r\u001b[K     |███████████████▉                | 122 kB 8.2 MB/s eta 0:00:01\r\u001b[K     |█████████████████▏              | 133 kB 8.2 MB/s eta 0:00:01\r\u001b[K     |██████████████████▌             | 143 kB 8.2 MB/s eta 0:00:01\r\u001b[K     |███████████████████▉            | 153 kB 8.2 MB/s eta 0:00:01\r\u001b[K     |█████████████████████▏          | 163 kB 8.2 MB/s eta 0:00:01\r\u001b[K     |██████████████████████▌         | 174 kB 8.2 MB/s eta 0:00:01\r\u001b[K     |███████████████████████▉        | 184 kB 8.2 MB/s eta 0:00:01\r\u001b[K     |█████████████████████████▏      | 194 kB 8.2 MB/s eta 0:00:01\r\u001b[K     |██████████████████████████▌     | 204 kB 8.2 MB/s eta 0:00:01\r\u001b[K     |███████████████████████████▉    | 215 kB 8.2 MB/s eta 0:00:01\r\u001b[K     |█████████████████████████████▏  | 225 kB 8.2 MB/s eta 0:00:01\r\u001b[K     |██████████████████████████████▍ | 235 kB 8.2 MB/s eta 0:00:01\r\u001b[K     |███████████████████████████████▊| 245 kB 8.2 MB/s eta 0:00:01\r\u001b[K     |████████████████████████████████| 247 kB 8.2 MB/s \n",
            "\u001b[K     |████████████████████████████████| 98 kB 7.7 MB/s \n",
            "\u001b[K     |████████████████████████████████| 4.5 MB 61.4 MB/s \n",
            "\u001b[K     |████████████████████████████████| 41 kB 163 kB/s \n",
            "\u001b[K     |████████████████████████████████| 832 kB 65.3 MB/s \n",
            "\u001b[K     |████████████████████████████████| 54 kB 2.0 MB/s \n",
            "\u001b[K     |████████████████████████████████| 3.6 MB 67.2 MB/s \n",
            "\u001b[?25h  Building wheel for fbpca (setup.py) ... \u001b[?25l\u001b[?25hdone\n",
            "  Building wheel for memoization (setup.py) ... \u001b[?25l\u001b[?25hdone\n",
            "  Building wheel for oktopus (setup.py) ... \u001b[?25l\u001b[?25hdone\n"
          ]
        }
      ]
    },
    {
      "cell_type": "code",
      "source": [
        "import matplotlib.pyplot as plt\n",
        "import pandas as pd\n",
        "import matplotlib \n",
        "import lightkurve as lk\n",
        "import numpy as np\n",
        "from astropy.convolution import convolve, Box1DKernel\n",
        "import seaborn as sb\n",
        "\n",
        "matplotlib.rcParams['figure.figsize'] = (15,8)\n",
        "sb.set_style('darkgrid')"
      ],
      "metadata": {
        "id": "70gna87I-fAg"
      },
      "execution_count": 3,
      "outputs": []
    },
    {
      "cell_type": "code",
      "execution_count": 7,
      "metadata": {
        "id": "BNJtGQpZ9Jvz"
      },
      "outputs": [],
      "source": [
        "plot_0_5 = pd.read_csv('f8_g_0to5k.csv')\n",
        "plot_5_10 = pd.read_csv('f8_g_5kto10k.csv')\n",
        "plot_10_15 = pd.read_csv('f8_g_10kto15k.csv')\n",
        "plot_15_20 = pd.read_csv('f8_g_15kto20k.csv')\n",
        "merge=[plot_0_5,plot_5_10,plot_10_15,plot_15_20]\n",
        "together = pd.concat(merge)"
      ]
    },
    {
      "cell_type": "code",
      "source": [
        "out = together.reset_index()[['Flkr','Log G']]"
      ],
      "metadata": {
        "id": "gS2rkQTh-Y3P"
      },
      "execution_count": 10,
      "outputs": []
    },
    {
      "cell_type": "code",
      "source": [
        "out"
      ],
      "metadata": {
        "colab": {
          "base_uri": "https://localhost:8080/",
          "height": 423
        },
        "id": "WNahKnyT_raw",
        "outputId": "77b29b72-88e8-4a0f-dba0-0f46b7c7b20f"
      },
      "execution_count": 11,
      "outputs": [
        {
          "output_type": "execute_result",
          "data": {
            "text/html": [
              "\n",
              "  <div id=\"df-1b4d2745-e3a3-4280-a85a-09d03547eeb9\">\n",
              "    <div class=\"colab-df-container\">\n",
              "      <div>\n",
              "<style scoped>\n",
              "    .dataframe tbody tr th:only-of-type {\n",
              "        vertical-align: middle;\n",
              "    }\n",
              "\n",
              "    .dataframe tbody tr th {\n",
              "        vertical-align: top;\n",
              "    }\n",
              "\n",
              "    .dataframe thead th {\n",
              "        text-align: right;\n",
              "    }\n",
              "</style>\n",
              "<table border=\"1\" class=\"dataframe\">\n",
              "  <thead>\n",
              "    <tr style=\"text-align: right;\">\n",
              "      <th></th>\n",
              "      <th>Flkr</th>\n",
              "      <th>Log G</th>\n",
              "    </tr>\n",
              "  </thead>\n",
              "  <tbody>\n",
              "    <tr>\n",
              "      <th>0</th>\n",
              "      <td>13.524490</td>\n",
              "      <td>3.817</td>\n",
              "    </tr>\n",
              "    <tr>\n",
              "      <th>1</th>\n",
              "      <td>1.152110</td>\n",
              "      <td>4.480</td>\n",
              "    </tr>\n",
              "    <tr>\n",
              "      <th>2</th>\n",
              "      <td>0.152381</td>\n",
              "      <td>4.411</td>\n",
              "    </tr>\n",
              "    <tr>\n",
              "      <th>3</th>\n",
              "      <td>0.411129</td>\n",
              "      <td>4.591</td>\n",
              "    </tr>\n",
              "    <tr>\n",
              "      <th>4</th>\n",
              "      <td>0.157015</td>\n",
              "      <td>3.355</td>\n",
              "    </tr>\n",
              "    <tr>\n",
              "      <th>...</th>\n",
              "      <td>...</td>\n",
              "      <td>...</td>\n",
              "    </tr>\n",
              "    <tr>\n",
              "      <th>19995</th>\n",
              "      <td>0.835320</td>\n",
              "      <td>4.690</td>\n",
              "    </tr>\n",
              "    <tr>\n",
              "      <th>19996</th>\n",
              "      <td>0.634870</td>\n",
              "      <td>4.505</td>\n",
              "    </tr>\n",
              "    <tr>\n",
              "      <th>19997</th>\n",
              "      <td>0.275063</td>\n",
              "      <td>4.685</td>\n",
              "    </tr>\n",
              "    <tr>\n",
              "      <th>19998</th>\n",
              "      <td>0.211690</td>\n",
              "      <td>4.143</td>\n",
              "    </tr>\n",
              "    <tr>\n",
              "      <th>19999</th>\n",
              "      <td>0.288404</td>\n",
              "      <td>4.481</td>\n",
              "    </tr>\n",
              "  </tbody>\n",
              "</table>\n",
              "<p>20000 rows × 2 columns</p>\n",
              "</div>\n",
              "      <button class=\"colab-df-convert\" onclick=\"convertToInteractive('df-1b4d2745-e3a3-4280-a85a-09d03547eeb9')\"\n",
              "              title=\"Convert this dataframe to an interactive table.\"\n",
              "              style=\"display:none;\">\n",
              "        \n",
              "  <svg xmlns=\"http://www.w3.org/2000/svg\" height=\"24px\"viewBox=\"0 0 24 24\"\n",
              "       width=\"24px\">\n",
              "    <path d=\"M0 0h24v24H0V0z\" fill=\"none\"/>\n",
              "    <path d=\"M18.56 5.44l.94 2.06.94-2.06 2.06-.94-2.06-.94-.94-2.06-.94 2.06-2.06.94zm-11 1L8.5 8.5l.94-2.06 2.06-.94-2.06-.94L8.5 2.5l-.94 2.06-2.06.94zm10 10l.94 2.06.94-2.06 2.06-.94-2.06-.94-.94-2.06-.94 2.06-2.06.94z\"/><path d=\"M17.41 7.96l-1.37-1.37c-.4-.4-.92-.59-1.43-.59-.52 0-1.04.2-1.43.59L10.3 9.45l-7.72 7.72c-.78.78-.78 2.05 0 2.83L4 21.41c.39.39.9.59 1.41.59.51 0 1.02-.2 1.41-.59l7.78-7.78 2.81-2.81c.8-.78.8-2.07 0-2.86zM5.41 20L4 18.59l7.72-7.72 1.47 1.35L5.41 20z\"/>\n",
              "  </svg>\n",
              "      </button>\n",
              "      \n",
              "  <style>\n",
              "    .colab-df-container {\n",
              "      display:flex;\n",
              "      flex-wrap:wrap;\n",
              "      gap: 12px;\n",
              "    }\n",
              "\n",
              "    .colab-df-convert {\n",
              "      background-color: #E8F0FE;\n",
              "      border: none;\n",
              "      border-radius: 50%;\n",
              "      cursor: pointer;\n",
              "      display: none;\n",
              "      fill: #1967D2;\n",
              "      height: 32px;\n",
              "      padding: 0 0 0 0;\n",
              "      width: 32px;\n",
              "    }\n",
              "\n",
              "    .colab-df-convert:hover {\n",
              "      background-color: #E2EBFA;\n",
              "      box-shadow: 0px 1px 2px rgba(60, 64, 67, 0.3), 0px 1px 3px 1px rgba(60, 64, 67, 0.15);\n",
              "      fill: #174EA6;\n",
              "    }\n",
              "\n",
              "    [theme=dark] .colab-df-convert {\n",
              "      background-color: #3B4455;\n",
              "      fill: #D2E3FC;\n",
              "    }\n",
              "\n",
              "    [theme=dark] .colab-df-convert:hover {\n",
              "      background-color: #434B5C;\n",
              "      box-shadow: 0px 1px 3px 1px rgba(0, 0, 0, 0.15);\n",
              "      filter: drop-shadow(0px 1px 2px rgba(0, 0, 0, 0.3));\n",
              "      fill: #FFFFFF;\n",
              "    }\n",
              "  </style>\n",
              "\n",
              "      <script>\n",
              "        const buttonEl =\n",
              "          document.querySelector('#df-1b4d2745-e3a3-4280-a85a-09d03547eeb9 button.colab-df-convert');\n",
              "        buttonEl.style.display =\n",
              "          google.colab.kernel.accessAllowed ? 'block' : 'none';\n",
              "\n",
              "        async function convertToInteractive(key) {\n",
              "          const element = document.querySelector('#df-1b4d2745-e3a3-4280-a85a-09d03547eeb9');\n",
              "          const dataTable =\n",
              "            await google.colab.kernel.invokeFunction('convertToInteractive',\n",
              "                                                     [key], {});\n",
              "          if (!dataTable) return;\n",
              "\n",
              "          const docLinkHtml = 'Like what you see? Visit the ' +\n",
              "            '<a target=\"_blank\" href=https://colab.research.google.com/notebooks/data_table.ipynb>data table notebook</a>'\n",
              "            + ' to learn more about interactive tables.';\n",
              "          element.innerHTML = '';\n",
              "          dataTable['output_type'] = 'display_data';\n",
              "          await google.colab.output.renderOutput(dataTable, element);\n",
              "          const docLink = document.createElement('div');\n",
              "          docLink.innerHTML = docLinkHtml;\n",
              "          element.appendChild(docLink);\n",
              "        }\n",
              "      </script>\n",
              "    </div>\n",
              "  </div>\n",
              "  "
            ],
            "text/plain": [
              "            Flkr  Log G\n",
              "0      13.524490  3.817\n",
              "1       1.152110  4.480\n",
              "2       0.152381  4.411\n",
              "3       0.411129  4.591\n",
              "4       0.157015  3.355\n",
              "...          ...    ...\n",
              "19995   0.835320  4.690\n",
              "19996   0.634870  4.505\n",
              "19997   0.275063  4.685\n",
              "19998   0.211690  4.143\n",
              "19999   0.288404  4.481\n",
              "\n",
              "[20000 rows x 2 columns]"
            ]
          },
          "metadata": {},
          "execution_count": 11
        }
      ]
    }
  ]
}