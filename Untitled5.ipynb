{
  "nbformat": 4,
  "nbformat_minor": 0,
  "metadata": {
    "colab": {
      "name": "Untitled5.ipynb",
      "provenance": [],
      "include_colab_link": true
    },
    "kernelspec": {
      "name": "python3",
      "display_name": "Python 3"
    },
    "language_info": {
      "name": "python"
    }
  },
  "cells": [
    {
      "cell_type": "markdown",
      "metadata": {
        "id": "view-in-github",
        "colab_type": "text"
      },
      "source": [
        "<a href=\"https://colab.research.google.com/github/Srivardini11/lark/blob/main/Untitled5.ipynb\" target=\"_parent\"><img src=\"https://colab.research.google.com/assets/colab-badge.svg\" alt=\"Open In Colab\"/></a>"
      ]
    },
    {
      "cell_type": "markdown",
      "metadata": {
        "id": "2oILksFqzkB0"
      },
      "source": [
        "# **Install**"
      ]
    },
    {
      "cell_type": "code",
      "execution_count": null,
      "metadata": {
        "colab": {
          "base_uri": "https://localhost:8080/"
        },
        "id": "BvfZ3PO3zZ9T",
        "outputId": "82d47a1b-9664-4640-b9d0-83c94a4c6132"
      },
      "outputs": [
        {
          "output_type": "stream",
          "name": "stdout",
          "text": [
            "\u001b[K     |████████████████████████████████| 247 kB 5.1 MB/s \n",
            "\u001b[K     |████████████████████████████████| 98 kB 3.5 MB/s \n",
            "\u001b[K     |████████████████████████████████| 41 kB 121 kB/s \n",
            "\u001b[K     |████████████████████████████████| 4.5 MB 40.4 MB/s \n",
            "\u001b[K     |████████████████████████████████| 832 kB 38.3 MB/s \n",
            "\u001b[K     |████████████████████████████████| 54 kB 1.3 MB/s \n",
            "\u001b[K     |████████████████████████████████| 3.6 MB 43.9 MB/s \n",
            "\u001b[?25h  Building wheel for fbpca (setup.py) ... \u001b[?25l\u001b[?25hdone\n",
            "  Building wheel for memoization (setup.py) ... \u001b[?25l\u001b[?25hdone\n",
            "  Building wheel for oktopus (setup.py) ... \u001b[?25l\u001b[?25hdone\n"
          ]
        }
      ],
      "source": [
        "!pip install lightkurve --quiet"
      ]
    },
    {
      "cell_type": "markdown",
      "metadata": {
        "id": "POdWZaWYz6mo"
      },
      "source": [
        "# **Import**"
      ]
    },
    {
      "cell_type": "code",
      "execution_count": null,
      "metadata": {
        "id": "tNyULezyzhDW"
      },
      "outputs": [],
      "source": [
        "import matplotlib.pyplot as plt\n",
        "import pandas as pd\n",
        "import matplotlib \n",
        "import lightkurve as lk\n",
        "import numpy as np\n",
        "from astropy.modeling import fitting, models\n",
        "from astropy.convolution import convolve, Box1DKernel\n",
        "from astropy.table import Table\n",
        "from google.colab import files\n",
        "from scipy.interpolate import interp1d\n",
        "from astropy.modeling import fitting, models\n",
        "from astropy.stats import sigma_clip\n",
        "import seaborn as sb\n",
        "\n",
        "matplotlib.rcParams['figure.figsize'] = (15,8)\n",
        "sb.set_style('darkgrid')"
      ]
    },
    {
      "cell_type": "markdown",
      "metadata": {
        "id": "BXH--svftnPN"
      },
      "source": [
        "# **GitHub**"
      ]
    },
    {
      "cell_type": "code",
      "execution_count": null,
      "metadata": {
        "colab": {
          "base_uri": "https://localhost:8080/"
        },
        "id": "lcxMkFDstmjo",
        "outputId": "74236cea-beb5-4221-8d99-103066d0c3e5"
      },
      "outputs": [
        {
          "output_type": "stream",
          "name": "stdout",
          "text": [
            "Cloning into 'lark'...\n",
            "remote: Enumerating objects: 141, done.\u001b[K\n",
            "remote: Counting objects: 100% (107/107), done.\u001b[K\n",
            "remote: Compressing objects: 100% (107/107), done.\u001b[K\n",
            "remote: Total 141 (delta 46), reused 0 (delta 0), pack-reused 34\u001b[K\n",
            "Receiving objects: 100% (141/141), 7.32 MiB | 10.42 MiB/s, done.\n",
            "Resolving deltas: 100% (59/59), done.\n"
          ]
        }
      ],
      "source": [
        "!git clone https://github.com/Srivardini11/lark"
      ]
    },
    {
      "cell_type": "code",
      "execution_count": null,
      "metadata": {
        "colab": {
          "base_uri": "https://localhost:8080/"
        },
        "id": "3BDfZaAottSr",
        "outputId": "124c7c54-f4ea-4353-c8ad-cea5be78d21f"
      },
      "outputs": [
        {
          "output_type": "stream",
          "name": "stdout",
          "text": [
            "/content/lark/data\n"
          ]
        }
      ],
      "source": [
        "cd lark/data"
      ]
    },
    {
      "cell_type": "markdown",
      "metadata": {
        "id": "S1MuBoWOzJPF"
      },
      "source": [
        "# **Data**"
      ]
    },
    {
      "cell_type": "code",
      "execution_count": null,
      "metadata": {
        "id": "wkokpDYhzlSa"
      },
      "outputs": [],
      "source": [
        "with open('Fabienne.txt',mode='r') as f:\n",
        "  dat = f.readlines()\n",
        "  f.close()\n",
        "col_names = dat[5].split()[1:]\n",
        "\n",
        "data = []\n",
        "for i in dat[6:]:\n",
        "  data.append([float(j) for j in i.split()])\n",
        "\n",
        "df = pd.DataFrame(data, columns=col_names)"
      ]
    },
    {
      "cell_type": "code",
      "execution_count": null,
      "metadata": {
        "colab": {
          "base_uri": "https://localhost:8080/",
          "height": 424
        },
        "id": "cpAw2ktWzzu6",
        "outputId": "7265da90-285d-48a6-8677-184229aa9da9"
      },
      "outputs": [
        {
          "output_type": "execute_result",
          "data": {
            "text/html": [
              "\n",
              "  <div id=\"df-d73eef0a-352f-4f11-a1b8-4be549ba672b\">\n",
              "    <div class=\"colab-df-container\">\n",
              "      <div>\n",
              "<style scoped>\n",
              "    .dataframe tbody tr th:only-of-type {\n",
              "        vertical-align: middle;\n",
              "    }\n",
              "\n",
              "    .dataframe tbody tr th {\n",
              "        vertical-align: top;\n",
              "    }\n",
              "\n",
              "    .dataframe thead th {\n",
              "        text-align: right;\n",
              "    }\n",
              "</style>\n",
              "<table border=\"1\" class=\"dataframe\">\n",
              "  <thead>\n",
              "    <tr style=\"text-align: right;\">\n",
              "      <th></th>\n",
              "      <th>KepID</th>\n",
              "      <th>KepMag</th>\n",
              "      <th>Teff(SDSS)</th>\n",
              "      <th>F_8(Corr)</th>\n",
              "      <th>R(Corr)</th>\n",
              "      <th>Zcross</th>\n",
              "    </tr>\n",
              "  </thead>\n",
              "  <tbody>\n",
              "    <tr>\n",
              "      <th>0</th>\n",
              "      <td>1164109.0</td>\n",
              "      <td>10.88</td>\n",
              "      <td>6607.0</td>\n",
              "      <td>0.0630</td>\n",
              "      <td>3.68</td>\n",
              "      <td>27.0</td>\n",
              "    </tr>\n",
              "    <tr>\n",
              "      <th>1</th>\n",
              "      <td>1725815.0</td>\n",
              "      <td>10.83</td>\n",
              "      <td>6550.0</td>\n",
              "      <td>0.0497</td>\n",
              "      <td>0.28</td>\n",
              "      <td>75.0</td>\n",
              "    </tr>\n",
              "    <tr>\n",
              "      <th>2</th>\n",
              "      <td>1868918.0</td>\n",
              "      <td>11.56</td>\n",
              "      <td>6252.0</td>\n",
              "      <td>0.0470</td>\n",
              "      <td>0.43</td>\n",
              "      <td>84.0</td>\n",
              "    </tr>\n",
              "    <tr>\n",
              "      <th>3</th>\n",
              "      <td>2010835.0</td>\n",
              "      <td>11.33</td>\n",
              "      <td>6103.0</td>\n",
              "      <td>0.0530</td>\n",
              "      <td>0.14</td>\n",
              "      <td>245.0</td>\n",
              "    </tr>\n",
              "    <tr>\n",
              "      <th>4</th>\n",
              "      <td>2013883.0</td>\n",
              "      <td>11.21</td>\n",
              "      <td>6278.0</td>\n",
              "      <td>0.0556</td>\n",
              "      <td>0.48</td>\n",
              "      <td>32.0</td>\n",
              "    </tr>\n",
              "    <tr>\n",
              "      <th>...</th>\n",
              "      <td>...</td>\n",
              "      <td>...</td>\n",
              "      <td>...</td>\n",
              "      <td>...</td>\n",
              "      <td>...</td>\n",
              "      <td>...</td>\n",
              "    </tr>\n",
              "    <tr>\n",
              "      <th>537</th>\n",
              "      <td>12555505.0</td>\n",
              "      <td>9.62</td>\n",
              "      <td>5704.0</td>\n",
              "      <td>0.0298</td>\n",
              "      <td>0.29</td>\n",
              "      <td>49.0</td>\n",
              "    </tr>\n",
              "    <tr>\n",
              "      <th>538</th>\n",
              "      <td>12600459.0</td>\n",
              "      <td>10.41</td>\n",
              "      <td>6303.0</td>\n",
              "      <td>0.0409</td>\n",
              "      <td>0.43</td>\n",
              "      <td>93.0</td>\n",
              "    </tr>\n",
              "    <tr>\n",
              "      <th>539</th>\n",
              "      <td>12602236.0</td>\n",
              "      <td>10.15</td>\n",
              "      <td>6522.0</td>\n",
              "      <td>0.0447</td>\n",
              "      <td>0.89</td>\n",
              "      <td>65.0</td>\n",
              "    </tr>\n",
              "    <tr>\n",
              "      <th>540</th>\n",
              "      <td>12690331.0</td>\n",
              "      <td>11.48</td>\n",
              "      <td>6626.0</td>\n",
              "      <td>0.0668</td>\n",
              "      <td>0.51</td>\n",
              "      <td>67.0</td>\n",
              "    </tr>\n",
              "    <tr>\n",
              "      <th>541</th>\n",
              "      <td>12735580.0</td>\n",
              "      <td>11.49</td>\n",
              "      <td>6170.0</td>\n",
              "      <td>0.0736</td>\n",
              "      <td>0.33</td>\n",
              "      <td>126.0</td>\n",
              "    </tr>\n",
              "  </tbody>\n",
              "</table>\n",
              "<p>542 rows × 6 columns</p>\n",
              "</div>\n",
              "      <button class=\"colab-df-convert\" onclick=\"convertToInteractive('df-d73eef0a-352f-4f11-a1b8-4be549ba672b')\"\n",
              "              title=\"Convert this dataframe to an interactive table.\"\n",
              "              style=\"display:none;\">\n",
              "        \n",
              "  <svg xmlns=\"http://www.w3.org/2000/svg\" height=\"24px\"viewBox=\"0 0 24 24\"\n",
              "       width=\"24px\">\n",
              "    <path d=\"M0 0h24v24H0V0z\" fill=\"none\"/>\n",
              "    <path d=\"M18.56 5.44l.94 2.06.94-2.06 2.06-.94-2.06-.94-.94-2.06-.94 2.06-2.06.94zm-11 1L8.5 8.5l.94-2.06 2.06-.94-2.06-.94L8.5 2.5l-.94 2.06-2.06.94zm10 10l.94 2.06.94-2.06 2.06-.94-2.06-.94-.94-2.06-.94 2.06-2.06.94z\"/><path d=\"M17.41 7.96l-1.37-1.37c-.4-.4-.92-.59-1.43-.59-.52 0-1.04.2-1.43.59L10.3 9.45l-7.72 7.72c-.78.78-.78 2.05 0 2.83L4 21.41c.39.39.9.59 1.41.59.51 0 1.02-.2 1.41-.59l7.78-7.78 2.81-2.81c.8-.78.8-2.07 0-2.86zM5.41 20L4 18.59l7.72-7.72 1.47 1.35L5.41 20z\"/>\n",
              "  </svg>\n",
              "      </button>\n",
              "      \n",
              "  <style>\n",
              "    .colab-df-container {\n",
              "      display:flex;\n",
              "      flex-wrap:wrap;\n",
              "      gap: 12px;\n",
              "    }\n",
              "\n",
              "    .colab-df-convert {\n",
              "      background-color: #E8F0FE;\n",
              "      border: none;\n",
              "      border-radius: 50%;\n",
              "      cursor: pointer;\n",
              "      display: none;\n",
              "      fill: #1967D2;\n",
              "      height: 32px;\n",
              "      padding: 0 0 0 0;\n",
              "      width: 32px;\n",
              "    }\n",
              "\n",
              "    .colab-df-convert:hover {\n",
              "      background-color: #E2EBFA;\n",
              "      box-shadow: 0px 1px 2px rgba(60, 64, 67, 0.3), 0px 1px 3px 1px rgba(60, 64, 67, 0.15);\n",
              "      fill: #174EA6;\n",
              "    }\n",
              "\n",
              "    [theme=dark] .colab-df-convert {\n",
              "      background-color: #3B4455;\n",
              "      fill: #D2E3FC;\n",
              "    }\n",
              "\n",
              "    [theme=dark] .colab-df-convert:hover {\n",
              "      background-color: #434B5C;\n",
              "      box-shadow: 0px 1px 3px 1px rgba(0, 0, 0, 0.15);\n",
              "      filter: drop-shadow(0px 1px 2px rgba(0, 0, 0, 0.3));\n",
              "      fill: #FFFFFF;\n",
              "    }\n",
              "  </style>\n",
              "\n",
              "      <script>\n",
              "        const buttonEl =\n",
              "          document.querySelector('#df-d73eef0a-352f-4f11-a1b8-4be549ba672b button.colab-df-convert');\n",
              "        buttonEl.style.display =\n",
              "          google.colab.kernel.accessAllowed ? 'block' : 'none';\n",
              "\n",
              "        async function convertToInteractive(key) {\n",
              "          const element = document.querySelector('#df-d73eef0a-352f-4f11-a1b8-4be549ba672b');\n",
              "          const dataTable =\n",
              "            await google.colab.kernel.invokeFunction('convertToInteractive',\n",
              "                                                     [key], {});\n",
              "          if (!dataTable) return;\n",
              "\n",
              "          const docLinkHtml = 'Like what you see? Visit the ' +\n",
              "            '<a target=\"_blank\" href=https://colab.research.google.com/notebooks/data_table.ipynb>data table notebook</a>'\n",
              "            + ' to learn more about interactive tables.';\n",
              "          element.innerHTML = '';\n",
              "          dataTable['output_type'] = 'display_data';\n",
              "          await google.colab.output.renderOutput(dataTable, element);\n",
              "          const docLink = document.createElement('div');\n",
              "          docLink.innerHTML = docLinkHtml;\n",
              "          element.appendChild(docLink);\n",
              "        }\n",
              "      </script>\n",
              "    </div>\n",
              "  </div>\n",
              "  "
            ],
            "text/plain": [
              "          KepID  KepMag  Teff(SDSS)  F_8(Corr)  R(Corr)  Zcross\n",
              "0     1164109.0   10.88      6607.0     0.0630     3.68    27.0\n",
              "1     1725815.0   10.83      6550.0     0.0497     0.28    75.0\n",
              "2     1868918.0   11.56      6252.0     0.0470     0.43    84.0\n",
              "3     2010835.0   11.33      6103.0     0.0530     0.14   245.0\n",
              "4     2013883.0   11.21      6278.0     0.0556     0.48    32.0\n",
              "..          ...     ...         ...        ...      ...     ...\n",
              "537  12555505.0    9.62      5704.0     0.0298     0.29    49.0\n",
              "538  12600459.0   10.41      6303.0     0.0409     0.43    93.0\n",
              "539  12602236.0   10.15      6522.0     0.0447     0.89    65.0\n",
              "540  12690331.0   11.48      6626.0     0.0668     0.51    67.0\n",
              "541  12735580.0   11.49      6170.0     0.0736     0.33   126.0\n",
              "\n",
              "[542 rows x 6 columns]"
            ]
          },
          "metadata": {},
          "execution_count": 6
        }
      ],
      "source": [
        "df"
      ]
    },
    {
      "cell_type": "markdown",
      "source": [
        "The data used by Bastien is used to crosscheck the working of the code. First, the outliers were removed from the lightcurves. The scattered points are interpolated from the flux values over the time period of nineth quarter. To get the flicker, a third order polynomial is fit. The curves are sigma clipped and using Boxcar fitting, the rms is found.  "
      ],
      "metadata": {
        "id": "dTD8g6zIqKKL"
      }
    },
    {
      "cell_type": "code",
      "execution_count": null,
      "metadata": {
        "id": "tE1vXpeGzdXS"
      },
      "outputs": [],
      "source": [
        "download = 0\n",
        "flr_rms_list  = []\n",
        "flkr_list     = []\n",
        "logg_list     = []\n",
        "\n",
        "count = 0\n",
        "for id in df['KepID']:\n",
        "  name    = id\n",
        "  source  = lk.search_lightcurve(name, author=\"Kepler\", cadence=\"long\",quarter = 9).download()\n",
        "  count+=1\n",
        "\n",
        "  flux    = source.remove_nans().flux.value\n",
        "  time    = source.remove_nans().time.value\n",
        "\n",
        "  # Interpolating data\n",
        "  f = interp1d(time,flux)\n",
        "  size = len(time)*3      # Size increased 3 times\n",
        "  x = np.linspace(time.min(), time.max(),size)\n",
        "  y = f(x)\n",
        "\n",
        "  # Fitting a polynomial of order 3\n",
        "  init = models.Polynomial1D(3)\n",
        "\n",
        "  fit  = fitting.LevMarLSQFitter()\n",
        "\n",
        "  model = fit(init,x,y)\n",
        "  \n",
        "  # Model subtraction\n",
        "  data = y-model(x)\n",
        "\n",
        "  # Sigma clipping\n",
        "\n",
        "  flux_out = sigma_clip(data,sigma=2.5)\n",
        "\n",
        "  mult = size/((time.max()-time.min())*24)\n",
        "\n",
        "  # Box smoothening with Box size = 8 hours\n",
        "\n",
        "  smoothed_signal = convolve(data, Box1DKernel(8*mult),boundary='extend')\n",
        "\n",
        "  flicker = data-smoothed_signal\n",
        "\n",
        "  flr_rms_list.append(np.sqrt( (flicker**2).mean()))\n",
        "\n",
        "  logg_list.append(source.LOGG) "
      ]
    },
    {
      "cell_type": "markdown",
      "source": [
        "The table is added with the calculated Flickers and the error percentage is obtained. "
      ],
      "metadata": {
        "id": "_h38F41x7AU8"
      }
    },
    {
      "cell_type": "code",
      "source": [
        "flr = np.array(flr_rms_list)/1000\n",
        "flr"
      ],
      "metadata": {
        "id": "4Kt77RLYzso-",
        "outputId": "26dfe1a5-b087-4a0f-9ef5-6c030307d2ec",
        "colab": {
          "base_uri": "https://localhost:8080/"
        }
      },
      "execution_count": null,
      "outputs": [
        {
          "output_type": "execute_result",
          "data": {
            "text/plain": [
              "array([0.03589925, 0.03267343, 0.01703208, 0.02287165, 0.0275084 ,\n",
              "       0.02909003, 0.02387901, 0.09434075, 0.03890089, 0.03439012,\n",
              "       0.0187991 , 0.02677197, 0.14364085, 0.01922619, 0.03399713,\n",
              "       0.0287648 , 0.0723091 , 0.0187377 , 0.02414035, 0.04420093,\n",
              "       0.10477693, 0.0253116 , 0.08849043, 0.03636489, 0.01640588,\n",
              "       0.03844448, 0.02485173, 0.02655428, 0.02413736, 0.15009056,\n",
              "       0.02359443, 0.35066134, 0.0306814 , 0.03744317, 0.04241397,\n",
              "       0.03461667, 0.08663568, 0.05888518, 0.09221242, 0.05713015,\n",
              "       0.03282536, 0.01753622, 0.14984588, 0.08169002, 0.04244851,\n",
              "       0.18923167, 0.03016978, 0.07597937, 0.02977265, 0.0301848 ,\n",
              "       0.03977487, 0.0394612 , 0.06186022, 0.10732968, 0.02591699,\n",
              "       0.027399  , 0.07685552, 0.02225853, 0.01492036, 0.03112161,\n",
              "       0.11606284, 0.01921283, 0.04120722, 0.0176495 , 0.01808698,\n",
              "       0.05919273, 0.08006647, 0.13736434, 0.05208457, 0.0449844 ,\n",
              "       0.03702552, 0.01235548, 0.02591532, 0.01901702, 0.07397833,\n",
              "       0.04225247, 0.06367982, 0.0533567 , 0.05030515, 0.02978104,\n",
              "       0.0180963 , 0.02818647, 0.1096985 , 0.02279509, 0.19296485,\n",
              "       0.04161282, 0.03081414, 0.02214526, 0.02287951, 0.1446251 ,\n",
              "       0.02926252, 0.03296434, 0.043039  , 0.10248054, 0.6083689 ,\n",
              "       0.01757158, 0.02072262, 0.02730266, 0.2022271 , 0.0657407 ,\n",
              "       0.05242764, 0.0242414 , 0.05042597, 0.02753238, 0.03664164,\n",
              "       0.01884421, 0.11038838, 0.05429011, 0.02093726, 0.01825966,\n",
              "       0.04339309, 0.07675288, 0.04213633, 0.08957939, 0.02689693,\n",
              "       0.04954379, 0.02343126, 0.03000006, 0.18193661, 0.10656692,\n",
              "       0.07592305, 0.04287384, 0.06697816, 0.06127226, 0.02365517,\n",
              "       0.06110649, 0.02112323, 0.06915552, 0.08500326, 0.02914949,\n",
              "       0.02421683, 0.16235403, 0.0562098 , 0.01363395, 0.05133852,\n",
              "       0.12115644, 0.0200982 , 0.08803097, 0.06334677, 0.07070396,\n",
              "       0.02964951, 0.02571461, 0.02181746, 0.02048779, 0.04241414,\n",
              "       0.04764369, 0.0574315 , 0.0582266 , 0.02815373, 0.02104411,\n",
              "       0.01798828, 0.04124739, 0.11786436, 0.06743255, 0.02689529,\n",
              "       0.04742659, 0.06008446, 0.0208788 , 0.01961707, 0.04395064,\n",
              "       0.04641476, 0.01889381, 0.05953492, 0.03251927, 0.03727603,\n",
              "       0.08271648, 0.02017645, 0.02216992, 0.01885429, 0.03614445,\n",
              "       0.02245849, 0.05512154, 0.07455032, 0.03728137, 0.0205344 ,\n",
              "       0.03264656, 0.01865153, 0.02436923, 0.05604869, 0.02165963,\n",
              "       0.02311026, 0.02574918, 0.00545717, 0.02761247, 0.02529427,\n",
              "       0.02281614, 0.03581433, 0.02371463, 0.02243737, 0.01908178,\n",
              "       0.02349842, 0.01764239, 0.0233891 , 0.01620287, 0.03632438,\n",
              "       0.04535241, 0.03315559, 0.04101295, 0.01744192, 0.10146214,\n",
              "       0.03242843, 0.10172234, 0.0200599 , 0.02438562, 0.21690972,\n",
              "       0.04741955, 0.02100536, 0.1694503 , 0.02020042, 0.02328911,\n",
              "       0.01980639, 0.01927633, 0.0273422 , 0.08416239, 0.01951079,\n",
              "       0.02101798, 0.03664415, 0.03136034, 0.01807965, 0.04540217,\n",
              "       0.02255564, 0.02000996, 0.02171604, 0.05376503, 0.09068883,\n",
              "       0.01426104, 0.1268127 , 0.06627443, 0.21294679, 0.04829303,\n",
              "       0.02929862, 0.02692903, 0.01922965, 0.06908185, 0.04929246,\n",
              "       0.02520764, 0.01922428, 0.05751841, 0.01673623, 0.04378932,\n",
              "       0.02352163, 0.02658305, 0.07013141, 0.03669826, 0.02140114,\n",
              "       0.05101443, 0.01931048, 0.09505576, 0.02472295, 0.01743372,\n",
              "       0.02575129, 0.04839308, 0.06945409, 0.01875659, 0.04224188,\n",
              "       0.15558664, 0.02146697, 0.04207288, 0.09779823, 0.0463075 ,\n",
              "       0.02322736, 0.09855699, 0.03166966, 0.07486771, 0.02926324,\n",
              "       0.13527314, 0.2591136 , 0.01938261, 0.03442292, 0.05960277,\n",
              "       0.02820795, 0.06034401, 0.0258771 , 0.0251734 , 0.03385373,\n",
              "       0.08514922, 0.02879924, 0.01892957, 0.02400001, 0.02425885,\n",
              "       0.02097017, 0.02289987, 0.04441957, 0.03182045, 0.06402754,\n",
              "       0.02130115, 0.02642389, 0.05580127, 0.02219816, 0.05099039,\n",
              "       0.02920761, 0.01917964, 0.0196189 , 0.0253573 , 0.02985064,\n",
              "       0.02006488, 0.04492482, 0.04080723, 0.01999665, 0.02910335,\n",
              "       0.05395382, 0.02399175, 0.01681186, 0.04071694, 0.03088786,\n",
              "       0.04331139, 0.02115871, 0.02644923, 0.07074414, 0.0988253 ,\n",
              "       0.02336226, 0.01635362, 0.14733254, 0.03468383, 0.02435095,\n",
              "       0.02470589, 0.07120332, 0.02330889, 0.01626349, 0.01588157,\n",
              "       0.01941221, 0.06613426, 0.03909239, 0.04734428, 0.01703053,\n",
              "       0.03461983, 0.02228169, 0.02469024, 0.02846784, 0.02188   ,\n",
              "       0.02546261, 0.02930065, 0.08914221, 0.0428051 , 0.04706231,\n",
              "       0.0282288 , 0.0094346 , 0.04039143, 0.12709653, 0.01881481,\n",
              "       0.02071345, 0.06265237, 0.02187685, 0.03891959, 0.01833165,\n",
              "       0.03228915, 0.02263266, 0.04969281, 0.02349589, 0.04188723,\n",
              "       0.10588509, 0.04184793, 0.02065778, 0.04679203, 0.07697248,\n",
              "       0.02459675, 0.07191122, 0.00995068, 0.02970739, 0.02333201,\n",
              "       0.0677373 , 0.018109  , 0.03842407, 0.00331307, 0.02196308,\n",
              "       0.03189575, 0.02362172, 0.01875733, 0.01972652, 0.04609934,\n",
              "       0.02832035, 0.02723727, 0.01873768, 0.02920193, 0.04368145,\n",
              "       0.05362565, 0.03750867, 0.05705423, 0.02616554, 0.05492225,\n",
              "       0.05946544, 0.02067268, 0.05286667, 0.02715958, 0.01851391,\n",
              "       0.04483757, 0.0497044 , 0.02738718, 0.02807675, 0.03529452,\n",
              "       0.01761462, 0.0290555 , 0.02126078, 0.04867655, 0.01969722,\n",
              "       0.06482349, 0.0208486 , 0.03775335, 0.01790536, 0.02628275,\n",
              "       0.01688086, 0.04825972, 0.02479287, 0.08078592, 0.0405244 ,\n",
              "       0.0567481 , 0.42715136, 0.02459244, 0.02055496, 0.01788893,\n",
              "       0.02140169, 0.0168523 , 0.04372829, 0.01417774, 0.02027253,\n",
              "       0.03379299, 0.02562319, 0.09113903, 0.01800641, 0.02601451,\n",
              "       0.02192151, 0.05883254, 0.06063652, 0.02213512, 0.0490408 ,\n",
              "       0.107259  , 0.03554688, 0.08100327, 0.03687953, 0.01383143,\n",
              "       0.04353143, 0.02503499, 0.02109182, 0.02335692, 0.02487711,\n",
              "       0.01846983, 0.17894826, 0.02001321, 0.03933914, 0.02667821,\n",
              "       0.02688208, 0.09402767, 0.17147224, 0.02141145, 0.04933399,\n",
              "       0.02117888, 0.02907963, 0.0181941 , 0.09942848, 0.0542512 ,\n",
              "       0.03711357, 0.01990152, 0.0226725 , 0.04662307, 0.15225575,\n",
              "       0.05131105, 0.07286284, 0.03758172, 0.042847  , 0.0275423 ,\n",
              "       0.01833562, 0.01938365, 0.02239263, 0.02087071, 0.02822063,\n",
              "       0.01970086, 0.0293845 , 0.03682166, 0.03145562, 0.09517292,\n",
              "       0.02231936, 0.04534344, 0.01654602, 0.10285878, 0.01603566,\n",
              "       0.01707159, 0.01620315, 0.0548402 , 0.11055276, 0.0236719 ,\n",
              "       0.02523685, 0.03621554, 0.04040097, 0.11820948, 0.04245234,\n",
              "       0.0652561 , 0.03133764, 0.02722336, 0.02000786, 0.02065253,\n",
              "       0.02702029, 0.04127656, 0.01951224, 0.01712655, 0.06128878,\n",
              "       0.01998806, 0.11778321, 0.03751754, 0.02091729, 0.01735916,\n",
              "       0.02161377, 0.11042003, 0.02718639, 0.02335686, 0.07627791,\n",
              "       0.03083916, 0.03922433, 0.02274834, 0.0389775 , 0.03132815,\n",
              "       0.05469954, 0.04909771, 0.02329713, 0.02162328, 0.02817907,\n",
              "       0.2165197 , 0.02260706, 0.02636939, 0.02670353, 0.02136401,\n",
              "       0.03661882, 0.05903542, 0.02005955, 0.04905409, 0.02374517,\n",
              "       0.0303572 , 0.33451494, 0.01930883, 0.03951055, 0.03438156,\n",
              "       0.02249107, 0.05144978, 0.03172098, 0.05393014, 0.07728099,\n",
              "       0.0358692 , 0.06827127, 0.05334193, 0.05234926, 0.05850684,\n",
              "       0.01947304, 0.02592714])"
            ]
          },
          "metadata": {},
          "execution_count": 19
        }
      ]
    },
    {
      "cell_type": "code",
      "source": [
        "df['LogG'] = logg_list\n",
        "flickers = np.array(flr_rms_list)/1000\n",
        "df['F_8(Calculated)'] = flickers\n",
        "df"
      ],
      "metadata": {
        "colab": {
          "base_uri": "https://localhost:8080/",
          "height": 423
        },
        "id": "rEdOqhEf7XWb",
        "outputId": "31b09584-258b-4953-f218-728a7d73016f"
      },
      "execution_count": null,
      "outputs": [
        {
          "output_type": "execute_result",
          "data": {
            "text/html": [
              "\n",
              "  <div id=\"df-88798d9c-d50e-41eb-8ef7-50ea5b7a292f\">\n",
              "    <div class=\"colab-df-container\">\n",
              "      <div>\n",
              "<style scoped>\n",
              "    .dataframe tbody tr th:only-of-type {\n",
              "        vertical-align: middle;\n",
              "    }\n",
              "\n",
              "    .dataframe tbody tr th {\n",
              "        vertical-align: top;\n",
              "    }\n",
              "\n",
              "    .dataframe thead th {\n",
              "        text-align: right;\n",
              "    }\n",
              "</style>\n",
              "<table border=\"1\" class=\"dataframe\">\n",
              "  <thead>\n",
              "    <tr style=\"text-align: right;\">\n",
              "      <th></th>\n",
              "      <th>KepID</th>\n",
              "      <th>KepMag</th>\n",
              "      <th>Teff(SDSS)</th>\n",
              "      <th>F_8(Corr)</th>\n",
              "      <th>R(Corr)</th>\n",
              "      <th>Zcross</th>\n",
              "      <th>LogG</th>\n",
              "      <th>F_8(Calculated)</th>\n",
              "    </tr>\n",
              "  </thead>\n",
              "  <tbody>\n",
              "    <tr>\n",
              "      <th>0</th>\n",
              "      <td>1164109.0</td>\n",
              "      <td>10.88</td>\n",
              "      <td>6607.0</td>\n",
              "      <td>0.0630</td>\n",
              "      <td>3.68</td>\n",
              "      <td>27.0</td>\n",
              "      <td>4.105</td>\n",
              "      <td>NaN</td>\n",
              "    </tr>\n",
              "    <tr>\n",
              "      <th>1</th>\n",
              "      <td>1725815.0</td>\n",
              "      <td>10.83</td>\n",
              "      <td>6550.0</td>\n",
              "      <td>0.0497</td>\n",
              "      <td>0.28</td>\n",
              "      <td>75.0</td>\n",
              "      <td>3.982</td>\n",
              "      <td>NaN</td>\n",
              "    </tr>\n",
              "    <tr>\n",
              "      <th>2</th>\n",
              "      <td>1868918.0</td>\n",
              "      <td>11.56</td>\n",
              "      <td>6252.0</td>\n",
              "      <td>0.0470</td>\n",
              "      <td>0.43</td>\n",
              "      <td>84.0</td>\n",
              "      <td>4.207</td>\n",
              "      <td>NaN</td>\n",
              "    </tr>\n",
              "    <tr>\n",
              "      <th>3</th>\n",
              "      <td>2010835.0</td>\n",
              "      <td>11.33</td>\n",
              "      <td>6103.0</td>\n",
              "      <td>0.0530</td>\n",
              "      <td>0.14</td>\n",
              "      <td>245.0</td>\n",
              "      <td>4.125</td>\n",
              "      <td>NaN</td>\n",
              "    </tr>\n",
              "    <tr>\n",
              "      <th>4</th>\n",
              "      <td>2013883.0</td>\n",
              "      <td>11.21</td>\n",
              "      <td>6278.0</td>\n",
              "      <td>0.0556</td>\n",
              "      <td>0.48</td>\n",
              "      <td>32.0</td>\n",
              "      <td>4.456</td>\n",
              "      <td>NaN</td>\n",
              "    </tr>\n",
              "    <tr>\n",
              "      <th>...</th>\n",
              "      <td>...</td>\n",
              "      <td>...</td>\n",
              "      <td>...</td>\n",
              "      <td>...</td>\n",
              "      <td>...</td>\n",
              "      <td>...</td>\n",
              "      <td>...</td>\n",
              "      <td>...</td>\n",
              "    </tr>\n",
              "    <tr>\n",
              "      <th>537</th>\n",
              "      <td>12555505.0</td>\n",
              "      <td>9.62</td>\n",
              "      <td>5704.0</td>\n",
              "      <td>0.0298</td>\n",
              "      <td>0.29</td>\n",
              "      <td>49.0</td>\n",
              "      <td>4.380</td>\n",
              "      <td>NaN</td>\n",
              "    </tr>\n",
              "    <tr>\n",
              "      <th>538</th>\n",
              "      <td>12600459.0</td>\n",
              "      <td>10.41</td>\n",
              "      <td>6303.0</td>\n",
              "      <td>0.0409</td>\n",
              "      <td>0.43</td>\n",
              "      <td>93.0</td>\n",
              "      <td>4.303</td>\n",
              "      <td>NaN</td>\n",
              "    </tr>\n",
              "    <tr>\n",
              "      <th>539</th>\n",
              "      <td>12602236.0</td>\n",
              "      <td>10.15</td>\n",
              "      <td>6522.0</td>\n",
              "      <td>0.0447</td>\n",
              "      <td>0.89</td>\n",
              "      <td>65.0</td>\n",
              "      <td>4.196</td>\n",
              "      <td>NaN</td>\n",
              "    </tr>\n",
              "    <tr>\n",
              "      <th>540</th>\n",
              "      <td>12690331.0</td>\n",
              "      <td>11.48</td>\n",
              "      <td>6626.0</td>\n",
              "      <td>0.0668</td>\n",
              "      <td>0.51</td>\n",
              "      <td>67.0</td>\n",
              "      <td>3.969</td>\n",
              "      <td>NaN</td>\n",
              "    </tr>\n",
              "    <tr>\n",
              "      <th>541</th>\n",
              "      <td>12735580.0</td>\n",
              "      <td>11.49</td>\n",
              "      <td>6170.0</td>\n",
              "      <td>0.0736</td>\n",
              "      <td>0.33</td>\n",
              "      <td>126.0</td>\n",
              "      <td>3.994</td>\n",
              "      <td>NaN</td>\n",
              "    </tr>\n",
              "  </tbody>\n",
              "</table>\n",
              "<p>542 rows × 8 columns</p>\n",
              "</div>\n",
              "      <button class=\"colab-df-convert\" onclick=\"convertToInteractive('df-88798d9c-d50e-41eb-8ef7-50ea5b7a292f')\"\n",
              "              title=\"Convert this dataframe to an interactive table.\"\n",
              "              style=\"display:none;\">\n",
              "        \n",
              "  <svg xmlns=\"http://www.w3.org/2000/svg\" height=\"24px\"viewBox=\"0 0 24 24\"\n",
              "       width=\"24px\">\n",
              "    <path d=\"M0 0h24v24H0V0z\" fill=\"none\"/>\n",
              "    <path d=\"M18.56 5.44l.94 2.06.94-2.06 2.06-.94-2.06-.94-.94-2.06-.94 2.06-2.06.94zm-11 1L8.5 8.5l.94-2.06 2.06-.94-2.06-.94L8.5 2.5l-.94 2.06-2.06.94zm10 10l.94 2.06.94-2.06 2.06-.94-2.06-.94-.94-2.06-.94 2.06-2.06.94z\"/><path d=\"M17.41 7.96l-1.37-1.37c-.4-.4-.92-.59-1.43-.59-.52 0-1.04.2-1.43.59L10.3 9.45l-7.72 7.72c-.78.78-.78 2.05 0 2.83L4 21.41c.39.39.9.59 1.41.59.51 0 1.02-.2 1.41-.59l7.78-7.78 2.81-2.81c.8-.78.8-2.07 0-2.86zM5.41 20L4 18.59l7.72-7.72 1.47 1.35L5.41 20z\"/>\n",
              "  </svg>\n",
              "      </button>\n",
              "      \n",
              "  <style>\n",
              "    .colab-df-container {\n",
              "      display:flex;\n",
              "      flex-wrap:wrap;\n",
              "      gap: 12px;\n",
              "    }\n",
              "\n",
              "    .colab-df-convert {\n",
              "      background-color: #E8F0FE;\n",
              "      border: none;\n",
              "      border-radius: 50%;\n",
              "      cursor: pointer;\n",
              "      display: none;\n",
              "      fill: #1967D2;\n",
              "      height: 32px;\n",
              "      padding: 0 0 0 0;\n",
              "      width: 32px;\n",
              "    }\n",
              "\n",
              "    .colab-df-convert:hover {\n",
              "      background-color: #E2EBFA;\n",
              "      box-shadow: 0px 1px 2px rgba(60, 64, 67, 0.3), 0px 1px 3px 1px rgba(60, 64, 67, 0.15);\n",
              "      fill: #174EA6;\n",
              "    }\n",
              "\n",
              "    [theme=dark] .colab-df-convert {\n",
              "      background-color: #3B4455;\n",
              "      fill: #D2E3FC;\n",
              "    }\n",
              "\n",
              "    [theme=dark] .colab-df-convert:hover {\n",
              "      background-color: #434B5C;\n",
              "      box-shadow: 0px 1px 3px 1px rgba(0, 0, 0, 0.15);\n",
              "      filter: drop-shadow(0px 1px 2px rgba(0, 0, 0, 0.3));\n",
              "      fill: #FFFFFF;\n",
              "    }\n",
              "  </style>\n",
              "\n",
              "      <script>\n",
              "        const buttonEl =\n",
              "          document.querySelector('#df-88798d9c-d50e-41eb-8ef7-50ea5b7a292f button.colab-df-convert');\n",
              "        buttonEl.style.display =\n",
              "          google.colab.kernel.accessAllowed ? 'block' : 'none';\n",
              "\n",
              "        async function convertToInteractive(key) {\n",
              "          const element = document.querySelector('#df-88798d9c-d50e-41eb-8ef7-50ea5b7a292f');\n",
              "          const dataTable =\n",
              "            await google.colab.kernel.invokeFunction('convertToInteractive',\n",
              "                                                     [key], {});\n",
              "          if (!dataTable) return;\n",
              "\n",
              "          const docLinkHtml = 'Like what you see? Visit the ' +\n",
              "            '<a target=\"_blank\" href=https://colab.research.google.com/notebooks/data_table.ipynb>data table notebook</a>'\n",
              "            + ' to learn more about interactive tables.';\n",
              "          element.innerHTML = '';\n",
              "          dataTable['output_type'] = 'display_data';\n",
              "          await google.colab.output.renderOutput(dataTable, element);\n",
              "          const docLink = document.createElement('div');\n",
              "          docLink.innerHTML = docLinkHtml;\n",
              "          element.appendChild(docLink);\n",
              "        }\n",
              "      </script>\n",
              "    </div>\n",
              "  </div>\n",
              "  "
            ],
            "text/plain": [
              "          KepID  KepMag  Teff(SDSS)  F_8(Corr)  R(Corr)  Zcross   LogG  \\\n",
              "0     1164109.0   10.88      6607.0     0.0630     3.68    27.0  4.105   \n",
              "1     1725815.0   10.83      6550.0     0.0497     0.28    75.0  3.982   \n",
              "2     1868918.0   11.56      6252.0     0.0470     0.43    84.0  4.207   \n",
              "3     2010835.0   11.33      6103.0     0.0530     0.14   245.0  4.125   \n",
              "4     2013883.0   11.21      6278.0     0.0556     0.48    32.0  4.456   \n",
              "..          ...     ...         ...        ...      ...     ...    ...   \n",
              "537  12555505.0    9.62      5704.0     0.0298     0.29    49.0  4.380   \n",
              "538  12600459.0   10.41      6303.0     0.0409     0.43    93.0  4.303   \n",
              "539  12602236.0   10.15      6522.0     0.0447     0.89    65.0  4.196   \n",
              "540  12690331.0   11.48      6626.0     0.0668     0.51    67.0  3.969   \n",
              "541  12735580.0   11.49      6170.0     0.0736     0.33   126.0  3.994   \n",
              "\n",
              "     F_8(Calculated)  \n",
              "0                NaN  \n",
              "1                NaN  \n",
              "2                NaN  \n",
              "3                NaN  \n",
              "4                NaN  \n",
              "..               ...  \n",
              "537              NaN  \n",
              "538              NaN  \n",
              "539              NaN  \n",
              "540              NaN  \n",
              "541              NaN  \n",
              "\n",
              "[542 rows x 8 columns]"
            ]
          },
          "metadata": {},
          "execution_count": 12
        }
      ]
    },
    {
      "cell_type": "markdown",
      "source": [
        "The flickers calculated are plotted with the range and log g."
      ],
      "metadata": {
        "id": "o8K3y05q8aXt"
      }
    },
    {
      "cell_type": "code",
      "execution_count": null,
      "metadata": {
        "id": "j8BL_kI6fQfE"
      },
      "outputs": [],
      "source": [
        "x = df['F_8(Calculated)']\n",
        "y = np.log10(df['R(Corr)'])\n",
        "c = df['LogG']\n",
        "s = df['Zcross']\n",
        "plt.figure(figsize = (12,8))\n",
        "img = plt.scatter(x,y,c=c*0.9,s=s*1.5,cmap='gist_rainbow',vmin=2.5,vmax=5.2)\n",
        "plt.colorbar(img,label=r'Astroseismic $log_{10}g$ ($cm$  $s^{-2}$)')\n",
        "plt.xlabel(r'$F_8$ (p.p.t, Kepmag corrected)')\n",
        "plt.ylabel(r'$\\log_{10}[R_{var}$(p.p.t Kepmag corrected)]')"
      ]
    },
    {
      "cell_type": "markdown",
      "source": [
        "The Flicker plot obtained from the data of Bastein."
      ],
      "metadata": {
        "id": "jDr_LZWf8wvY"
      }
    },
    {
      "cell_type": "code",
      "execution_count": null,
      "metadata": {
        "id": "YRcHLFpHfPjK"
      },
      "outputs": [],
      "source": [
        " = df['F_8(Corr)']\n",
        "y = np.log10(df['R(Corr)'])\n",
        "c = df['LogG']\n",
        "s = df['Zcross']\n",
        "plt.figure(figsize = (12,8))\n",
        "img = plt.scatter(x,y,c=c*0.9,s=s*1.5,cmap='gist_rainbow',vmin=2.5,vmax=5.2)\n",
        "plt.colorbar(img,label=r'Astroseismic $log_{10}g$ ($cm$  $s^{-2}$)')\n",
        "plt.xlabel(r'$F_8$ (p.p.t, Kepmag corrected)')\n",
        "plt.ylabel(r'$\\log_{10}[R_{var}$(p.p.t Kepmag corrected)]')"
      ]
    },
    {
      "cell_type": "markdown",
      "source": [
        "The error is around 0 for some stars in the range 10 and 10.5 of Kep Meg. But some stars show a heavy difference in the F_8. But there is a pattern seen in the difference between the obtained flickers and from the paper. "
      ],
      "metadata": {
        "id": "L3pqPXJu87yq"
      }
    },
    {
      "cell_type": "code",
      "execution_count": null,
      "metadata": {
        "id": "DEZQ36xphekg"
      },
      "outputs": [],
      "source": [
        "plt.scatter(df['KepMag'],f8_error)"
      ]
    },
    {
      "cell_type": "code",
      "source": [
        "table"
      ],
      "metadata": {
        "id": "uNlmmoyx_Ieu"
      },
      "execution_count": null,
      "outputs": []
    },
    {
      "cell_type": "code",
      "source": [
        " flickers = np.array(flr_rms_list)/1000\n",
        " flickers"
      ],
      "metadata": {
        "id": "O098_f_K-U0A"
      },
      "execution_count": null,
      "outputs": []
    },
    {
      "cell_type": "markdown",
      "metadata": {
        "id": "XOdDSsPi5e2L"
      },
      "source": [
        "10000 = 21600 hours"
      ]
    },
    {
      "cell_type": "code",
      "source": [
        "Kep_Magnitude = np.array([11.235, 11.623, 11.253, 11.730, 11.099, 11.629])\n",
        "F8_pap= np.array([0.046, 0.055, 0.049, 0.067, 0.171, 0.284]) \n",
        "f8_diff = (F8_pap - flickers)/F8_pap\n",
        "plt.scatter(Kep_Magnitude,f8_diff)"
      ],
      "metadata": {
        "id": "Z_v6yyyBEcyP"
      },
      "execution_count": null,
      "outputs": []
    },
    {
      "cell_type": "code",
      "source": [
        "sum={'calc flicker':flickers,'Bastien flicker':F8_pap, 'Flicker error':f8_diff, 'Kep Mag': Kep_Magnitude}\n",
        "table=pd.DataFrame(sum)\n",
        "table"
      ],
      "metadata": {
        "id": "yEm1XV4za9m4"
      },
      "execution_count": null,
      "outputs": []
    }
  ]
}