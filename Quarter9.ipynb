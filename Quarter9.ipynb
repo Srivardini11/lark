{
  "nbformat": 4,
  "nbformat_minor": 0,
  "metadata": {
    "colab": {
      "name": "Quarter9.ipynb",
      "provenance": [],
      "authorship_tag": "ABX9TyPG/3R9HlbkbyeUUCpAmAnI",
      "include_colab_link": true
    },
    "kernelspec": {
      "name": "python3",
      "display_name": "Python 3"
    },
    "language_info": {
      "name": "python"
    }
  },
  "cells": [
    {
      "cell_type": "markdown",
      "metadata": {
        "id": "view-in-github",
        "colab_type": "text"
      },
      "source": [
        "<a href=\"https://colab.research.google.com/github/Srivardini11/lark/blob/main/Quarter9.ipynb\" target=\"_parent\"><img src=\"https://colab.research.google.com/assets/colab-badge.svg\" alt=\"Open In Colab\"/></a>"
      ]
    },
    {
      "cell_type": "markdown",
      "source": [
        "# **Install**"
      ],
      "metadata": {
        "id": "2oILksFqzkB0"
      }
    },
    {
      "cell_type": "code",
      "execution_count": null,
      "metadata": {
        "colab": {
          "base_uri": "https://localhost:8080/"
        },
        "id": "BvfZ3PO3zZ9T",
        "outputId": "978c85d2-beb2-40ab-c855-d7a892fcb390"
      },
      "outputs": [
        {
          "output_type": "stream",
          "name": "stdout",
          "text": [
            "\u001b[?25l\r\u001b[K     |█▎                              | 10 kB 28.4 MB/s eta 0:00:01\r\u001b[K     |██▋                             | 20 kB 37.0 MB/s eta 0:00:01\r\u001b[K     |████                            | 30 kB 27.7 MB/s eta 0:00:01\r\u001b[K     |█████▎                          | 40 kB 23.7 MB/s eta 0:00:01\r\u001b[K     |██████▋                         | 51 kB 20.3 MB/s eta 0:00:01\r\u001b[K     |████████                        | 61 kB 17.9 MB/s eta 0:00:01\r\u001b[K     |█████████▎                      | 71 kB 14.0 MB/s eta 0:00:01\r\u001b[K     |██████████▋                     | 81 kB 15.5 MB/s eta 0:00:01\r\u001b[K     |████████████                    | 92 kB 14.8 MB/s eta 0:00:01\r\u001b[K     |█████████████▎                  | 102 kB 15.4 MB/s eta 0:00:01\r\u001b[K     |██████████████▋                 | 112 kB 15.4 MB/s eta 0:00:01\r\u001b[K     |███████████████▉                | 122 kB 15.4 MB/s eta 0:00:01\r\u001b[K     |█████████████████▏              | 133 kB 15.4 MB/s eta 0:00:01\r\u001b[K     |██████████████████▌             | 143 kB 15.4 MB/s eta 0:00:01\r\u001b[K     |███████████████████▉            | 153 kB 15.4 MB/s eta 0:00:01\r\u001b[K     |█████████████████████▏          | 163 kB 15.4 MB/s eta 0:00:01\r\u001b[K     |██████████████████████▌         | 174 kB 15.4 MB/s eta 0:00:01\r\u001b[K     |███████████████████████▉        | 184 kB 15.4 MB/s eta 0:00:01\r\u001b[K     |█████████████████████████▏      | 194 kB 15.4 MB/s eta 0:00:01\r\u001b[K     |██████████████████████████▌     | 204 kB 15.4 MB/s eta 0:00:01\r\u001b[K     |███████████████████████████▉    | 215 kB 15.4 MB/s eta 0:00:01\r\u001b[K     |█████████████████████████████▏  | 225 kB 15.4 MB/s eta 0:00:01\r\u001b[K     |██████████████████████████████▍ | 235 kB 15.4 MB/s eta 0:00:01\r\u001b[K     |███████████████████████████████▊| 245 kB 15.4 MB/s eta 0:00:01\r\u001b[K     |████████████████████████████████| 247 kB 15.4 MB/s \n",
            "\u001b[K     |████████████████████████████████| 41 kB 147 kB/s \n",
            "\u001b[K     |████████████████████████████████| 98 kB 6.3 MB/s \n",
            "\u001b[K     |████████████████████████████████| 4.5 MB 64.5 MB/s \n",
            "\u001b[K     |████████████████████████████████| 832 kB 75.1 MB/s \n",
            "\u001b[K     |████████████████████████████████| 54 kB 2.2 MB/s \n",
            "\u001b[K     |████████████████████████████████| 3.6 MB 58.0 MB/s \n",
            "\u001b[?25h  Building wheel for fbpca (setup.py) ... \u001b[?25l\u001b[?25hdone\n",
            "  Building wheel for memoization (setup.py) ... \u001b[?25l\u001b[?25hdone\n",
            "  Building wheel for oktopus (setup.py) ... \u001b[?25l\u001b[?25hdone\n"
          ]
        }
      ],
      "source": [
        "!pip install lightkurve --quiet"
      ]
    },
    {
      "cell_type": "markdown",
      "source": [
        "# **Import**"
      ],
      "metadata": {
        "id": "POdWZaWYz6mo"
      }
    },
    {
      "cell_type": "code",
      "source": [
        "import matplotlib.pyplot as plt\n",
        "import pandas as pd\n",
        "import matplotlib \n",
        "import lightkurve as lk\n",
        "import numpy as np\n",
        "from astropy.convolution import convolve, Box1DKernel\n",
        "import seaborn as sb\n",
        "\n",
        "matplotlib.rcParams['figure.figsize'] = (15,8)\n",
        "sb.set_style('darkgrid')"
      ],
      "metadata": {
        "id": "tNyULezyzhDW"
      },
      "execution_count": null,
      "outputs": []
    },
    {
      "cell_type": "markdown",
      "source": [
        "# Code"
      ],
      "metadata": {
        "id": "kUqJHF5M3HSP"
      }
    },
    {
      "cell_type": "code",
      "source": [
        "df = pd.read_csv('kepler_quarter_9.csv').drop(0)\n",
        "t = []\n",
        "for i in df['KEP Mag']:\n",
        "  t.append(float(i))\n",
        "df['KEP Mag'] = t\n",
        "\n",
        "t = []\n",
        "for i in df['Teff']:\n",
        "  t.append(float(i))\n",
        "df['Teff'] = t"
      ],
      "metadata": {
        "id": "RNNfdMCU6n2g"
      },
      "execution_count": null,
      "outputs": []
    },
    {
      "cell_type": "code",
      "source": [
        "df"
      ],
      "metadata": {
        "colab": {
          "base_uri": "https://localhost:8080/",
          "height": 834
        },
        "id": "BWCmLMOKRSd3",
        "outputId": "ff2f4cfe-2c89-4179-8d25-b2acd77cf3fb"
      },
      "execution_count": null,
      "outputs": [
        {
          "output_type": "execute_result",
          "data": {
            "text/html": [
              "\n",
              "  <div id=\"df-7d6a671e-3578-4c25-a444-24a105e34a3f\">\n",
              "    <div class=\"colab-df-container\">\n",
              "      <div>\n",
              "<style scoped>\n",
              "    .dataframe tbody tr th:only-of-type {\n",
              "        vertical-align: middle;\n",
              "    }\n",
              "\n",
              "    .dataframe tbody tr th {\n",
              "        vertical-align: top;\n",
              "    }\n",
              "\n",
              "    .dataframe thead th {\n",
              "        text-align: right;\n",
              "    }\n",
              "</style>\n",
              "<table border=\"1\" class=\"dataframe\">\n",
              "  <thead>\n",
              "    <tr style=\"text-align: right;\">\n",
              "      <th></th>\n",
              "      <th>Kepler ID</th>\n",
              "      <th>Investigation ID</th>\n",
              "      <th>Dataset Name</th>\n",
              "      <th>Quarter</th>\n",
              "      <th>RA (J2000)</th>\n",
              "      <th>Dec (J2000)</th>\n",
              "      <th>Target Type</th>\n",
              "      <th>Archive Class</th>\n",
              "      <th>Ref</th>\n",
              "      <th>Actual Start Time</th>\n",
              "      <th>Actual End Time</th>\n",
              "      <th>Release Date</th>\n",
              "      <th>R Mag</th>\n",
              "      <th>J Mag</th>\n",
              "      <th>KEP Mag</th>\n",
              "      <th>2MASS ID</th>\n",
              "      <th>2MASS conflict flag</th>\n",
              "      <th>Teff</th>\n",
              "      <th>Log G</th>\n",
              "      <th>Metallicity</th>\n",
              "      <th>E(B-V)</th>\n",
              "      <th>Radius</th>\n",
              "      <th>Total PM</th>\n",
              "      <th>G-R color</th>\n",
              "      <th>Module</th>\n",
              "      <th>Output</th>\n",
              "      <th>Channel</th>\n",
              "      <th>Skygroup_ID</th>\n",
              "      <th>Condition flag</th>\n",
              "    </tr>\n",
              "  </thead>\n",
              "  <tbody>\n",
              "    <tr>\n",
              "      <th>1</th>\n",
              "      <td>757450</td>\n",
              "      <td>EX</td>\n",
              "      <td>KPLR000757450-2011177032512</td>\n",
              "      <td>9.0</td>\n",
              "      <td>19 24 33.022</td>\n",
              "      <td>+36 34 38.57</td>\n",
              "      <td>LC</td>\n",
              "      <td>CLC</td>\n",
              "      <td>2.0</td>\n",
              "      <td>2011-03-21 00:24:25</td>\n",
              "      <td>2011-06-26 10:10:29</td>\n",
              "      <td>2012-07-28 12:00:00</td>\n",
              "      <td>15.207</td>\n",
              "      <td>13.664</td>\n",
              "      <td>15.264</td>\n",
              "      <td>19243302+3634385</td>\n",
              "      <td>0.0</td>\n",
              "      <td>5101.0</td>\n",
              "      <td>4.480</td>\n",
              "      <td>-0.094</td>\n",
              "      <td>0.127</td>\n",
              "      <td>0.933</td>\n",
              "      <td>0.006</td>\n",
              "      <td>0.791</td>\n",
              "      <td>10.0</td>\n",
              "      <td>4.0</td>\n",
              "      <td>32.0</td>\n",
              "      <td>84.0</td>\n",
              "      <td>Exoplanet</td>\n",
              "    </tr>\n",
              "    <tr>\n",
              "      <th>2</th>\n",
              "      <td>891901</td>\n",
              "      <td>EX</td>\n",
              "      <td>KPLR000891901-2011177032512</td>\n",
              "      <td>9.0</td>\n",
              "      <td>19 23 49.243</td>\n",
              "      <td>+36 41 21.23</td>\n",
              "      <td>LC</td>\n",
              "      <td>CLC</td>\n",
              "      <td>0.0</td>\n",
              "      <td>2011-03-21 00:24:25</td>\n",
              "      <td>2011-06-26 10:10:29</td>\n",
              "      <td>2012-07-28 12:00:00</td>\n",
              "      <td>13.240</td>\n",
              "      <td>12.214</td>\n",
              "      <td>13.306</td>\n",
              "      <td>19234924+3641212</td>\n",
              "      <td>0.0</td>\n",
              "      <td>6051.0</td>\n",
              "      <td>4.411</td>\n",
              "      <td>-0.084</td>\n",
              "      <td>0.105</td>\n",
              "      <td>1.085</td>\n",
              "      <td>0.008</td>\n",
              "      <td>0.419</td>\n",
              "      <td>10.0</td>\n",
              "      <td>4.0</td>\n",
              "      <td>32.0</td>\n",
              "      <td>84.0</td>\n",
              "      <td>NaN</td>\n",
              "    </tr>\n",
              "    <tr>\n",
              "      <th>3</th>\n",
              "      <td>891916</td>\n",
              "      <td>EX</td>\n",
              "      <td>KPLR000891916-2011177032512</td>\n",
              "      <td>9.0</td>\n",
              "      <td>19 23 49.973</td>\n",
              "      <td>+36 41 11.80</td>\n",
              "      <td>LC</td>\n",
              "      <td>CLC</td>\n",
              "      <td>0.0</td>\n",
              "      <td>2011-03-21 00:24:25</td>\n",
              "      <td>2011-06-26 10:10:29</td>\n",
              "      <td>2012-07-28 12:00:00</td>\n",
              "      <td>14.761</td>\n",
              "      <td>13.516</td>\n",
              "      <td>14.799</td>\n",
              "      <td>19234997+3641118</td>\n",
              "      <td>0.0</td>\n",
              "      <td>5407.0</td>\n",
              "      <td>4.591</td>\n",
              "      <td>-0.580</td>\n",
              "      <td>0.114</td>\n",
              "      <td>0.834</td>\n",
              "      <td>0.010</td>\n",
              "      <td>0.585</td>\n",
              "      <td>10.0</td>\n",
              "      <td>4.0</td>\n",
              "      <td>32.0</td>\n",
              "      <td>84.0</td>\n",
              "      <td>NaN</td>\n",
              "    </tr>\n",
              "    <tr>\n",
              "      <th>4</th>\n",
              "      <td>892107</td>\n",
              "      <td>EX</td>\n",
              "      <td>KPLR000892107-2011177032512</td>\n",
              "      <td>9.0</td>\n",
              "      <td>19 24 00.250</td>\n",
              "      <td>+36 38 33.47</td>\n",
              "      <td>LC</td>\n",
              "      <td>CLC</td>\n",
              "      <td>0.0</td>\n",
              "      <td>2011-03-21 00:24:25</td>\n",
              "      <td>2011-06-26 10:10:29</td>\n",
              "      <td>2012-02-13 00:00:00</td>\n",
              "      <td>12.307</td>\n",
              "      <td>10.740</td>\n",
              "      <td>12.380</td>\n",
              "      <td>19240024+3638334</td>\n",
              "      <td>0.0</td>\n",
              "      <td>5029.0</td>\n",
              "      <td>3.355</td>\n",
              "      <td>-0.085</td>\n",
              "      <td>0.136</td>\n",
              "      <td>4.118</td>\n",
              "      <td>0.013</td>\n",
              "      <td>0.845</td>\n",
              "      <td>10.0</td>\n",
              "      <td>4.0</td>\n",
              "      <td>32.0</td>\n",
              "      <td>84.0</td>\n",
              "      <td>Red_giant</td>\n",
              "    </tr>\n",
              "    <tr>\n",
              "      <th>5</th>\n",
              "      <td>892195</td>\n",
              "      <td>EX</td>\n",
              "      <td>KPLR000892195-2011177032512</td>\n",
              "      <td>9.0</td>\n",
              "      <td>19 24 05.206</td>\n",
              "      <td>+36 38 37.39</td>\n",
              "      <td>LC</td>\n",
              "      <td>CLC</td>\n",
              "      <td>0.0</td>\n",
              "      <td>2011-03-21 00:24:25</td>\n",
              "      <td>2011-06-26 10:10:29</td>\n",
              "      <td>2012-07-28 12:00:00</td>\n",
              "      <td>13.685</td>\n",
              "      <td>12.316</td>\n",
              "      <td>13.757</td>\n",
              "      <td>19240520+3638374</td>\n",
              "      <td>0.0</td>\n",
              "      <td>5553.0</td>\n",
              "      <td>3.972</td>\n",
              "      <td>-0.054</td>\n",
              "      <td>0.147</td>\n",
              "      <td>1.865</td>\n",
              "      <td>0.012</td>\n",
              "      <td>0.704</td>\n",
              "      <td>10.0</td>\n",
              "      <td>4.0</td>\n",
              "      <td>32.0</td>\n",
              "      <td>84.0</td>\n",
              "      <td>NaN</td>\n",
              "    </tr>\n",
              "    <tr>\n",
              "      <th>...</th>\n",
              "      <td>...</td>\n",
              "      <td>...</td>\n",
              "      <td>...</td>\n",
              "      <td>...</td>\n",
              "      <td>...</td>\n",
              "      <td>...</td>\n",
              "      <td>...</td>\n",
              "      <td>...</td>\n",
              "      <td>...</td>\n",
              "      <td>...</td>\n",
              "      <td>...</td>\n",
              "      <td>...</td>\n",
              "      <td>...</td>\n",
              "      <td>...</td>\n",
              "      <td>...</td>\n",
              "      <td>...</td>\n",
              "      <td>...</td>\n",
              "      <td>...</td>\n",
              "      <td>...</td>\n",
              "      <td>...</td>\n",
              "      <td>...</td>\n",
              "      <td>...</td>\n",
              "      <td>...</td>\n",
              "      <td>...</td>\n",
              "      <td>...</td>\n",
              "      <td>...</td>\n",
              "      <td>...</td>\n",
              "      <td>...</td>\n",
              "      <td>...</td>\n",
              "    </tr>\n",
              "    <tr>\n",
              "      <th>30825</th>\n",
              "      <td>5461988</td>\n",
              "      <td>EX</td>\n",
              "      <td>KPLR005461988-2011177032512</td>\n",
              "      <td>9.0</td>\n",
              "      <td>19 42 11.988</td>\n",
              "      <td>+40 38 56.51</td>\n",
              "      <td>LC</td>\n",
              "      <td>CLC</td>\n",
              "      <td>0.0</td>\n",
              "      <td>2011-03-21 00:24:25</td>\n",
              "      <td>2011-06-26 10:10:29</td>\n",
              "      <td>2012-07-28 12:00:00</td>\n",
              "      <td>15.180</td>\n",
              "      <td>13.762</td>\n",
              "      <td>15.223</td>\n",
              "      <td>19421198+4038564</td>\n",
              "      <td>0.0</td>\n",
              "      <td>5068.0</td>\n",
              "      <td>4.461</td>\n",
              "      <td>-0.376</td>\n",
              "      <td>0.129</td>\n",
              "      <td>0.953</td>\n",
              "      <td>0.006</td>\n",
              "      <td>0.735</td>\n",
              "      <td>15.0</td>\n",
              "      <td>2.0</td>\n",
              "      <td>50.0</td>\n",
              "      <td>78.0</td>\n",
              "      <td>NaN</td>\n",
              "    </tr>\n",
              "    <tr>\n",
              "      <th>30826</th>\n",
              "      <td>5462004</td>\n",
              "      <td>EX</td>\n",
              "      <td>KPLR005462004-2011177032512</td>\n",
              "      <td>9.0</td>\n",
              "      <td>19 42 13.346</td>\n",
              "      <td>+40 38 05.42</td>\n",
              "      <td>LC</td>\n",
              "      <td>CLC</td>\n",
              "      <td>0.0</td>\n",
              "      <td>2011-03-21 00:24:25</td>\n",
              "      <td>2011-06-26 10:10:29</td>\n",
              "      <td>2012-07-28 12:00:00</td>\n",
              "      <td>13.556</td>\n",
              "      <td>12.625</td>\n",
              "      <td>13.604</td>\n",
              "      <td>19421334+4038054</td>\n",
              "      <td>0.0</td>\n",
              "      <td>6004.0</td>\n",
              "      <td>4.682</td>\n",
              "      <td>-0.388</td>\n",
              "      <td>0.092</td>\n",
              "      <td>0.775</td>\n",
              "      <td>0.009</td>\n",
              "      <td>0.405</td>\n",
              "      <td>15.0</td>\n",
              "      <td>2.0</td>\n",
              "      <td>50.0</td>\n",
              "      <td>78.0</td>\n",
              "      <td>NaN</td>\n",
              "    </tr>\n",
              "    <tr>\n",
              "      <th>30827</th>\n",
              "      <td>5462007</td>\n",
              "      <td>EX</td>\n",
              "      <td>KPLR005462007-2011177032512</td>\n",
              "      <td>9.0</td>\n",
              "      <td>19 42 13.522</td>\n",
              "      <td>+40 36 45.22</td>\n",
              "      <td>LC</td>\n",
              "      <td>CLC</td>\n",
              "      <td>0.0</td>\n",
              "      <td>2011-03-21 00:24:25</td>\n",
              "      <td>2011-06-26 10:10:29</td>\n",
              "      <td>2012-07-28 12:00:00</td>\n",
              "      <td>15.576</td>\n",
              "      <td>14.394</td>\n",
              "      <td>15.630</td>\n",
              "      <td>19421352+4036452</td>\n",
              "      <td>0.0</td>\n",
              "      <td>5416.0</td>\n",
              "      <td>4.971</td>\n",
              "      <td>-0.228</td>\n",
              "      <td>0.109</td>\n",
              "      <td>0.514</td>\n",
              "      <td>0.014</td>\n",
              "      <td>0.608</td>\n",
              "      <td>15.0</td>\n",
              "      <td>2.0</td>\n",
              "      <td>50.0</td>\n",
              "      <td>78.0</td>\n",
              "      <td>NaN</td>\n",
              "    </tr>\n",
              "    <tr>\n",
              "      <th>30828</th>\n",
              "      <td>5462040</td>\n",
              "      <td>EX</td>\n",
              "      <td>KPLR005462040-2011177032512</td>\n",
              "      <td>9.0</td>\n",
              "      <td>19 42 15.415</td>\n",
              "      <td>+40 37 41.88</td>\n",
              "      <td>LC</td>\n",
              "      <td>CLC</td>\n",
              "      <td>0.0</td>\n",
              "      <td>2011-03-21 00:24:25</td>\n",
              "      <td>2011-06-26 10:10:29</td>\n",
              "      <td>2012-07-28 12:00:00</td>\n",
              "      <td>13.733</td>\n",
              "      <td>12.749</td>\n",
              "      <td>13.773</td>\n",
              "      <td>19421541+4037418</td>\n",
              "      <td>0.0</td>\n",
              "      <td>6033.0</td>\n",
              "      <td>4.514</td>\n",
              "      <td>-0.454</td>\n",
              "      <td>0.115</td>\n",
              "      <td>0.956</td>\n",
              "      <td>0.005</td>\n",
              "      <td>0.410</td>\n",
              "      <td>15.0</td>\n",
              "      <td>2.0</td>\n",
              "      <td>50.0</td>\n",
              "      <td>78.0</td>\n",
              "      <td>NaN</td>\n",
              "    </tr>\n",
              "    <tr>\n",
              "      <th>30829</th>\n",
              "      <td>5462048</td>\n",
              "      <td>EX</td>\n",
              "      <td>NaN</td>\n",
              "      <td>NaN</td>\n",
              "      <td>NaN</td>\n",
              "      <td>NaN</td>\n",
              "      <td>NaN</td>\n",
              "      <td>NaN</td>\n",
              "      <td>NaN</td>\n",
              "      <td>NaN</td>\n",
              "      <td>NaN</td>\n",
              "      <td>NaN</td>\n",
              "      <td>NaN</td>\n",
              "      <td>NaN</td>\n",
              "      <td>NaN</td>\n",
              "      <td>NaN</td>\n",
              "      <td>NaN</td>\n",
              "      <td>NaN</td>\n",
              "      <td>NaN</td>\n",
              "      <td>NaN</td>\n",
              "      <td>NaN</td>\n",
              "      <td>NaN</td>\n",
              "      <td>NaN</td>\n",
              "      <td>NaN</td>\n",
              "      <td>NaN</td>\n",
              "      <td>NaN</td>\n",
              "      <td>NaN</td>\n",
              "      <td>NaN</td>\n",
              "      <td>NaN</td>\n",
              "    </tr>\n",
              "  </tbody>\n",
              "</table>\n",
              "<p>30829 rows × 29 columns</p>\n",
              "</div>\n",
              "      <button class=\"colab-df-convert\" onclick=\"convertToInteractive('df-7d6a671e-3578-4c25-a444-24a105e34a3f')\"\n",
              "              title=\"Convert this dataframe to an interactive table.\"\n",
              "              style=\"display:none;\">\n",
              "        \n",
              "  <svg xmlns=\"http://www.w3.org/2000/svg\" height=\"24px\"viewBox=\"0 0 24 24\"\n",
              "       width=\"24px\">\n",
              "    <path d=\"M0 0h24v24H0V0z\" fill=\"none\"/>\n",
              "    <path d=\"M18.56 5.44l.94 2.06.94-2.06 2.06-.94-2.06-.94-.94-2.06-.94 2.06-2.06.94zm-11 1L8.5 8.5l.94-2.06 2.06-.94-2.06-.94L8.5 2.5l-.94 2.06-2.06.94zm10 10l.94 2.06.94-2.06 2.06-.94-2.06-.94-.94-2.06-.94 2.06-2.06.94z\"/><path d=\"M17.41 7.96l-1.37-1.37c-.4-.4-.92-.59-1.43-.59-.52 0-1.04.2-1.43.59L10.3 9.45l-7.72 7.72c-.78.78-.78 2.05 0 2.83L4 21.41c.39.39.9.59 1.41.59.51 0 1.02-.2 1.41-.59l7.78-7.78 2.81-2.81c.8-.78.8-2.07 0-2.86zM5.41 20L4 18.59l7.72-7.72 1.47 1.35L5.41 20z\"/>\n",
              "  </svg>\n",
              "      </button>\n",
              "      \n",
              "  <style>\n",
              "    .colab-df-container {\n",
              "      display:flex;\n",
              "      flex-wrap:wrap;\n",
              "      gap: 12px;\n",
              "    }\n",
              "\n",
              "    .colab-df-convert {\n",
              "      background-color: #E8F0FE;\n",
              "      border: none;\n",
              "      border-radius: 50%;\n",
              "      cursor: pointer;\n",
              "      display: none;\n",
              "      fill: #1967D2;\n",
              "      height: 32px;\n",
              "      padding: 0 0 0 0;\n",
              "      width: 32px;\n",
              "    }\n",
              "\n",
              "    .colab-df-convert:hover {\n",
              "      background-color: #E2EBFA;\n",
              "      box-shadow: 0px 1px 2px rgba(60, 64, 67, 0.3), 0px 1px 3px 1px rgba(60, 64, 67, 0.15);\n",
              "      fill: #174EA6;\n",
              "    }\n",
              "\n",
              "    [theme=dark] .colab-df-convert {\n",
              "      background-color: #3B4455;\n",
              "      fill: #D2E3FC;\n",
              "    }\n",
              "\n",
              "    [theme=dark] .colab-df-convert:hover {\n",
              "      background-color: #434B5C;\n",
              "      box-shadow: 0px 1px 3px 1px rgba(0, 0, 0, 0.15);\n",
              "      filter: drop-shadow(0px 1px 2px rgba(0, 0, 0, 0.3));\n",
              "      fill: #FFFFFF;\n",
              "    }\n",
              "  </style>\n",
              "\n",
              "      <script>\n",
              "        const buttonEl =\n",
              "          document.querySelector('#df-7d6a671e-3578-4c25-a444-24a105e34a3f button.colab-df-convert');\n",
              "        buttonEl.style.display =\n",
              "          google.colab.kernel.accessAllowed ? 'block' : 'none';\n",
              "\n",
              "        async function convertToInteractive(key) {\n",
              "          const element = document.querySelector('#df-7d6a671e-3578-4c25-a444-24a105e34a3f');\n",
              "          const dataTable =\n",
              "            await google.colab.kernel.invokeFunction('convertToInteractive',\n",
              "                                                     [key], {});\n",
              "          if (!dataTable) return;\n",
              "\n",
              "          const docLinkHtml = 'Like what you see? Visit the ' +\n",
              "            '<a target=\"_blank\" href=https://colab.research.google.com/notebooks/data_table.ipynb>data table notebook</a>'\n",
              "            + ' to learn more about interactive tables.';\n",
              "          element.innerHTML = '';\n",
              "          dataTable['output_type'] = 'display_data';\n",
              "          await google.colab.output.renderOutput(dataTable, element);\n",
              "          const docLink = document.createElement('div');\n",
              "          docLink.innerHTML = docLinkHtml;\n",
              "          element.appendChild(docLink);\n",
              "        }\n",
              "      </script>\n",
              "    </div>\n",
              "  </div>\n",
              "  "
            ],
            "text/plain": [
              "       Kepler ID Investigation ID  ... Skygroup_ID  Condition flag\n",
              "1         757450               EX  ...        84.0       Exoplanet\n",
              "2         891901               EX  ...        84.0             NaN\n",
              "3         891916               EX  ...        84.0             NaN\n",
              "4         892107               EX  ...        84.0       Red_giant\n",
              "5         892195               EX  ...        84.0             NaN\n",
              "...          ...              ...  ...         ...             ...\n",
              "30825    5461988               EX  ...        78.0             NaN\n",
              "30826    5462004               EX  ...        78.0             NaN\n",
              "30827    5462007               EX  ...        78.0             NaN\n",
              "30828    5462040               EX  ...        78.0             NaN\n",
              "30829    5462048               EX  ...         NaN             NaN\n",
              "\n",
              "[30829 rows x 29 columns]"
            ]
          },
          "metadata": {},
          "execution_count": 87
        }
      ]
    },
    {
      "cell_type": "code",
      "source": [
        "data = df['Teff']\n",
        "\n",
        "min = data.min()\n",
        "max = data.max()\n",
        "step_size = 100\n",
        "bins = np.arange(min,max, step_size)\n",
        "\n",
        "plt.hist(data,bins);"
      ],
      "metadata": {
        "colab": {
          "base_uri": "https://localhost:8080/",
          "height": 483
        },
        "id": "HUleUoJOQJbZ",
        "outputId": "089973b5-1ef5-4789-d731-be7778ccaf21"
      },
      "execution_count": null,
      "outputs": [
        {
          "output_type": "display_data",
          "data": {
            "image/png": "[encoded data removed]",
            "text/plain": [
              "<Figure size 1080x576 with 1 Axes>"
            ]
          },
          "metadata": {}
        }
      ]
    },
    {
      "cell_type": "code",
      "source": [
        "data = df['KEP Mag']\n",
        "\n",
        "min = data.min()\n",
        "max = data.max()\n",
        "step_size = 0.1\n",
        "bins = np.arange(min,max, step_size)\n",
        "plt.hist(data,bins)\n",
        "plt.yscale('log');"
      ],
      "metadata": {
        "colab": {
          "base_uri": "https://localhost:8080/",
          "height": 483
        },
        "id": "XvlzNqk7QELw",
        "outputId": "ea605775-ea5c-4ab3-ca94-b3871b33a6d6"
      },
      "execution_count": null,
      "outputs": [
        {
          "output_type": "display_data",
          "data": {
            "image/png": "[encoded data removed]",
            "text/plain": [
              "<Figure size 1080x576 with 1 Axes>"
            ]
          },
          "metadata": {}
        }
      ]
    },
    {
      "cell_type": "code",
      "source": [
        "df_test = df[:500]"
      ],
      "metadata": {
        "id": "0-pUM4PAO_oS"
      },
      "execution_count": null,
      "outputs": []
    },
    {
      "cell_type": "code",
      "source": [
        "flr_list = []\n",
        "logg_list = []\n",
        "for id in df_test['Dataset Name']:\n",
        "  name    = id[:13]\n",
        "  source  = lk.search_lightcurve(name, author=\"Kepler\", cadence=\"long\",quarter = 9).download()\n",
        "  rem_out = source.remove_outliers(sigma_upper = 2.5).normalize()\n",
        "\n",
        "  pg      = rem_out.to_periodogram(normalization='psd')\n",
        "  seismo  = pg.flatten().to_seismology() \n",
        "  seismo.estimate_numax() \n",
        "  logg = seismo.estimate_logg()\n",
        "\n",
        "  logg_list.append(logg.value)   \n",
        "              \n",
        "  flux    = rem_out.flux.value\n",
        "  time    = rem_out.time.value\n",
        "  smoothed_signal = convolve(flux, Box1DKernel(16))\n",
        "  flkr    = flux[index:-ind]-smoothed_signal[index:-ind]\n",
        "  flr     = np.sqrt(np.mean(flkr**2))*1e3\n",
        "\n",
        "  flr_list.append(flr)"
      ],
      "metadata": {
        "id": "l7OSpY7V3E_e"
      },
      "execution_count": null,
      "outputs": []
    },
    {
      "cell_type": "code",
      "source": [
        "df_test['flicker'] = flr_list\n",
        "df_test['logg_lc'] = logg_list"
      ],
      "metadata": {
        "colab": {
          "base_uri": "https://localhost:8080/"
        },
        "id": "1EzDcEcJ_WqH",
        "outputId": "99249a6c-e649-456d-d5d8-11d442d414d6"
      },
      "execution_count": null,
      "outputs": [
        {
          "output_type": "stream",
          "name": "stderr",
          "text": [
            "/usr/local/lib/python3.7/dist-packages/ipykernel_launcher.py:1: SettingWithCopyWarning: \n",
            "A value is trying to be set on a copy of a slice from a DataFrame.\n",
            "Try using .loc[row_indexer,col_indexer] = value instead\n",
            "\n",
            "See the caveats in the documentation: https://pandas.pydata.org/pandas-docs/stable/user_guide/indexing.html#returning-a-view-versus-a-copy\n",
            "  \"\"\"Entry point for launching an IPython kernel.\n",
            "/usr/local/lib/python3.7/dist-packages/ipykernel_launcher.py:2: SettingWithCopyWarning: \n",
            "A value is trying to be set on a copy of a slice from a DataFrame.\n",
            "Try using .loc[row_indexer,col_indexer] = value instead\n",
            "\n",
            "See the caveats in the documentation: https://pandas.pydata.org/pandas-docs/stable/user_guide/indexing.html#returning-a-view-versus-a-copy\n",
            "  \n"
          ]
        }
      ]
    },
    {
      "cell_type": "code",
      "source": [
        "x = df_test['flicker']\n",
        "y = df_test['Log G']\n",
        "\n",
        "\n",
        "plt.scatter(x,y)\n",
        "plt.xlim(0,2)\n",
        "\n",
        "x = df_test['flicker']\n",
        "y = df_test['logg_lc']\n",
        "\n",
        "plt.scatter(x,y)\n",
        "plt.xlim(0,2)"
      ],
      "metadata": {
        "colab": {
          "base_uri": "https://localhost:8080/",
          "height": 500
        },
        "id": "z4eP0AKu5Uta",
        "outputId": "8e02fff1-e996-446c-b04a-b54c3eb562c6"
      },
      "execution_count": null,
      "outputs": [
        {
          "output_type": "execute_result",
          "data": {
            "text/plain": [
              "(0.0, 2.0)"
            ]
          },
          "metadata": {},
          "execution_count": 136
        },
        {
          "output_type": "display_data",
          "data": {
            "image/png": "[encoded data removed]",
            "text/plain": [
              "<Figure size 1080x576 with 1 Axes>"
            ]
          },
          "metadata": {}
        }
      ]
    },
    {
      "cell_type": "code",
      "source": [
        "x = df_test['flicker']\n",
        "y = abs(df_test['Log G'] - df_test['logg_lc'])\n",
        "\n",
        "\n",
        "plt.scatter(x,y)\n",
        "plt.xlim(0,2);"
      ],
      "metadata": {
        "colab": {
          "base_uri": "https://localhost:8080/",
          "height": 500
        },
        "id": "vaqg69sQPIQU",
        "outputId": "652e6654-5d16-48ab-b797-5fb1cd0b1a2b"
      },
      "execution_count": null,
      "outputs": [
        {
          "output_type": "execute_result",
          "data": {
            "text/plain": [
              "(0.0, 2.0)"
            ]
          },
          "metadata": {},
          "execution_count": 137
        },
        {
          "output_type": "display_data",
          "data": {
            "image/png": "[encoded data removed]",
            "text/plain": [
              "<Figure size 1080x576 with 1 Axes>"
            ]
          },
          "metadata": {}
        }
      ]
    },
    {
      "cell_type": "code",
      "source": [
        ""
      ],
      "metadata": {
        "id": "6rhXgswLY2_f"
      },
      "execution_count": null,
      "outputs": []
    }
  ]
}