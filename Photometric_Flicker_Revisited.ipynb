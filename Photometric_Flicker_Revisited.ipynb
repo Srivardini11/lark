{
  "cells": [
    {
      "cell_type": "markdown",
      "metadata": {
        "id": "view-in-github",
        "colab_type": "text"
      },
      "source": [
        "<a href=\"https://colab.research.google.com/github/Srivardini11/lark/blob/main/Photometric_Flicker_Revisited.ipynb\" target=\"_parent\"><img src=\"https://colab.research.google.com/assets/colab-badge.svg\" alt=\"Open In Colab\"/></a>"
      ]
    },
    {
      "cell_type": "markdown",
      "metadata": {
        "id": "2oILksFqzkB0"
      },
      "source": [
        "# **Install**"
      ]
    },
    {
      "cell_type": "code",
      "execution_count": 1,
      "metadata": {
        "colab": {
          "base_uri": "https://localhost:8080/"
        },
        "id": "BvfZ3PO3zZ9T",
        "outputId": "a508d399-54f6-4c9a-fb3b-bbcc76993daf"
      },
      "outputs": [
        {
          "output_type": "stream",
          "name": "stdout",
          "text": [
            "\u001b[K     |████████████████████████████████| 247 kB 5.5 MB/s \n",
            "\u001b[K     |████████████████████████████████| 98 kB 7.0 MB/s \n",
            "\u001b[K     |████████████████████████████████| 41 kB 175 kB/s \n",
            "\u001b[K     |████████████████████████████████| 4.5 MB 48.6 MB/s \n",
            "\u001b[K     |████████████████████████████████| 832 kB 46.2 MB/s \n",
            "\u001b[K     |████████████████████████████████| 54 kB 2.4 MB/s \n",
            "\u001b[K     |████████████████████████████████| 3.6 MB 37.2 MB/s \n",
            "\u001b[?25h  Building wheel for fbpca (setup.py) ... \u001b[?25l\u001b[?25hdone\n",
            "  Building wheel for memoization (setup.py) ... \u001b[?25l\u001b[?25hdone\n",
            "  Building wheel for oktopus (setup.py) ... \u001b[?25l\u001b[?25hdone\n"
          ]
        }
      ],
      "source": [
        "!pip install lightkurve --quiet"
      ]
    },
    {
      "cell_type": "markdown",
      "metadata": {
        "id": "POdWZaWYz6mo"
      },
      "source": [
        "# **Import**"
      ]
    },
    {
      "cell_type": "code",
      "execution_count": 2,
      "metadata": {
        "id": "tNyULezyzhDW"
      },
      "outputs": [],
      "source": [
        "import matplotlib.pyplot as plt\n",
        "import pandas as pd\n",
        "import matplotlib \n",
        "import lightkurve as lk\n",
        "import numpy as np\n",
        "from astropy.modeling import fitting, models\n",
        "from astropy.convolution import convolve, Box1DKernel\n",
        "from astropy.table import Table\n",
        "from google.colab import files\n",
        "from scipy.interpolate import interp1d\n",
        "from astropy.modeling import fitting, models\n",
        "from astropy.stats import sigma_clip\n",
        "import seaborn as sb\n",
        "\n",
        "matplotlib.rcParams['figure.figsize'] = (15,8)\n",
        "sb.set_style('darkgrid')"
      ]
    },
    {
      "cell_type": "markdown",
      "metadata": {
        "id": "BXH--svftnPN"
      },
      "source": [
        "# **GitHub**"
      ]
    },
    {
      "cell_type": "code",
      "execution_count": 3,
      "metadata": {
        "colab": {
          "base_uri": "https://localhost:8080/"
        },
        "id": "lcxMkFDstmjo",
        "outputId": "f9286143-b476-4e33-8ee7-66aa97c6fae2"
      },
      "outputs": [
        {
          "output_type": "stream",
          "name": "stdout",
          "text": [
            "Cloning into 'lark'...\n",
            "remote: Enumerating objects: 135, done.\u001b[K\n",
            "remote: Counting objects: 100% (101/101), done.\u001b[K\n",
            "remote: Compressing objects: 100% (101/101), done.\u001b[K\n",
            "remote: Total 135 (delta 42), reused 0 (delta 0), pack-reused 34\u001b[K\n",
            "Receiving objects: 100% (135/135), 7.31 MiB | 10.62 MiB/s, done.\n",
            "Resolving deltas: 100% (55/55), done.\n"
          ]
        }
      ],
      "source": [
        "!git clone https://github.com/Srivardini11/lark"
      ]
    },
    {
      "cell_type": "code",
      "execution_count": 4,
      "metadata": {
        "colab": {
          "base_uri": "https://localhost:8080/"
        },
        "id": "3BDfZaAottSr",
        "outputId": "42a3e115-1cdb-4ea7-cb5e-5494b8dc85cc"
      },
      "outputs": [
        {
          "output_type": "stream",
          "name": "stdout",
          "text": [
            "/content/lark/data\n"
          ]
        }
      ],
      "source": [
        "cd lark/data"
      ]
    },
    {
      "cell_type": "markdown",
      "metadata": {
        "id": "S1MuBoWOzJPF"
      },
      "source": [
        "# **Data**"
      ]
    },
    {
      "cell_type": "code",
      "execution_count": 5,
      "metadata": {
        "id": "wkokpDYhzlSa"
      },
      "outputs": [],
      "source": [
        "with open('Fabienne.txt',mode='r') as f:\n",
        "  dat = f.readlines()\n",
        "  f.close()\n",
        "col_names = dat[5].split()[1:]\n",
        "\n",
        "data = []\n",
        "for i in dat[6:]:\n",
        "  data.append([float(j) for j in i.split()])\n",
        "\n",
        "df = pd.DataFrame(data, columns=col_names)"
      ]
    },
    {
      "cell_type": "code",
      "execution_count": 6,
      "metadata": {
        "colab": {
          "base_uri": "https://localhost:8080/",
          "height": 423
        },
        "id": "cpAw2ktWzzu6",
        "outputId": "5634b51e-d15e-4ffc-9811-a6996a5299a5"
      },
      "outputs": [
        {
          "output_type": "execute_result",
          "data": {
            "text/html": [
              "\n",
              "  <div id=\"df-23d788c4-59a3-4de2-8e52-c7fc638a3a7b\">\n",
              "    <div class=\"colab-df-container\">\n",
              "      <div>\n",
              "<style scoped>\n",
              "    .dataframe tbody tr th:only-of-type {\n",
              "        vertical-align: middle;\n",
              "    }\n",
              "\n",
              "    .dataframe tbody tr th {\n",
              "        vertical-align: top;\n",
              "    }\n",
              "\n",
              "    .dataframe thead th {\n",
              "        text-align: right;\n",
              "    }\n",
              "</style>\n",
              "<table border=\"1\" class=\"dataframe\">\n",
              "  <thead>\n",
              "    <tr style=\"text-align: right;\">\n",
              "      <th></th>\n",
              "      <th>KepID</th>\n",
              "      <th>KepMag</th>\n",
              "      <th>Teff(SDSS)</th>\n",
              "      <th>F_8(Corr)</th>\n",
              "      <th>R(Corr)</th>\n",
              "      <th>Zcross</th>\n",
              "    </tr>\n",
              "  </thead>\n",
              "  <tbody>\n",
              "    <tr>\n",
              "      <th>0</th>\n",
              "      <td>1164109.0</td>\n",
              "      <td>10.88</td>\n",
              "      <td>6607.0</td>\n",
              "      <td>0.0630</td>\n",
              "      <td>3.68</td>\n",
              "      <td>27.0</td>\n",
              "    </tr>\n",
              "    <tr>\n",
              "      <th>1</th>\n",
              "      <td>1725815.0</td>\n",
              "      <td>10.83</td>\n",
              "      <td>6550.0</td>\n",
              "      <td>0.0497</td>\n",
              "      <td>0.28</td>\n",
              "      <td>75.0</td>\n",
              "    </tr>\n",
              "    <tr>\n",
              "      <th>2</th>\n",
              "      <td>1868918.0</td>\n",
              "      <td>11.56</td>\n",
              "      <td>6252.0</td>\n",
              "      <td>0.0470</td>\n",
              "      <td>0.43</td>\n",
              "      <td>84.0</td>\n",
              "    </tr>\n",
              "    <tr>\n",
              "      <th>3</th>\n",
              "      <td>2010835.0</td>\n",
              "      <td>11.33</td>\n",
              "      <td>6103.0</td>\n",
              "      <td>0.0530</td>\n",
              "      <td>0.14</td>\n",
              "      <td>245.0</td>\n",
              "    </tr>\n",
              "    <tr>\n",
              "      <th>4</th>\n",
              "      <td>2013883.0</td>\n",
              "      <td>11.21</td>\n",
              "      <td>6278.0</td>\n",
              "      <td>0.0556</td>\n",
              "      <td>0.48</td>\n",
              "      <td>32.0</td>\n",
              "    </tr>\n",
              "    <tr>\n",
              "      <th>...</th>\n",
              "      <td>...</td>\n",
              "      <td>...</td>\n",
              "      <td>...</td>\n",
              "      <td>...</td>\n",
              "      <td>...</td>\n",
              "      <td>...</td>\n",
              "    </tr>\n",
              "    <tr>\n",
              "      <th>537</th>\n",
              "      <td>12555505.0</td>\n",
              "      <td>9.62</td>\n",
              "      <td>5704.0</td>\n",
              "      <td>0.0298</td>\n",
              "      <td>0.29</td>\n",
              "      <td>49.0</td>\n",
              "    </tr>\n",
              "    <tr>\n",
              "      <th>538</th>\n",
              "      <td>12600459.0</td>\n",
              "      <td>10.41</td>\n",
              "      <td>6303.0</td>\n",
              "      <td>0.0409</td>\n",
              "      <td>0.43</td>\n",
              "      <td>93.0</td>\n",
              "    </tr>\n",
              "    <tr>\n",
              "      <th>539</th>\n",
              "      <td>12602236.0</td>\n",
              "      <td>10.15</td>\n",
              "      <td>6522.0</td>\n",
              "      <td>0.0447</td>\n",
              "      <td>0.89</td>\n",
              "      <td>65.0</td>\n",
              "    </tr>\n",
              "    <tr>\n",
              "      <th>540</th>\n",
              "      <td>12690331.0</td>\n",
              "      <td>11.48</td>\n",
              "      <td>6626.0</td>\n",
              "      <td>0.0668</td>\n",
              "      <td>0.51</td>\n",
              "      <td>67.0</td>\n",
              "    </tr>\n",
              "    <tr>\n",
              "      <th>541</th>\n",
              "      <td>12735580.0</td>\n",
              "      <td>11.49</td>\n",
              "      <td>6170.0</td>\n",
              "      <td>0.0736</td>\n",
              "      <td>0.33</td>\n",
              "      <td>126.0</td>\n",
              "    </tr>\n",
              "  </tbody>\n",
              "</table>\n",
              "<p>542 rows × 6 columns</p>\n",
              "</div>\n",
              "      <button class=\"colab-df-convert\" onclick=\"convertToInteractive('df-23d788c4-59a3-4de2-8e52-c7fc638a3a7b')\"\n",
              "              title=\"Convert this dataframe to an interactive table.\"\n",
              "              style=\"display:none;\">\n",
              "        \n",
              "  <svg xmlns=\"http://www.w3.org/2000/svg\" height=\"24px\"viewBox=\"0 0 24 24\"\n",
              "       width=\"24px\">\n",
              "    <path d=\"M0 0h24v24H0V0z\" fill=\"none\"/>\n",
              "    <path d=\"M18.56 5.44l.94 2.06.94-2.06 2.06-.94-2.06-.94-.94-2.06-.94 2.06-2.06.94zm-11 1L8.5 8.5l.94-2.06 2.06-.94-2.06-.94L8.5 2.5l-.94 2.06-2.06.94zm10 10l.94 2.06.94-2.06 2.06-.94-2.06-.94-.94-2.06-.94 2.06-2.06.94z\"/><path d=\"M17.41 7.96l-1.37-1.37c-.4-.4-.92-.59-1.43-.59-.52 0-1.04.2-1.43.59L10.3 9.45l-7.72 7.72c-.78.78-.78 2.05 0 2.83L4 21.41c.39.39.9.59 1.41.59.51 0 1.02-.2 1.41-.59l7.78-7.78 2.81-2.81c.8-.78.8-2.07 0-2.86zM5.41 20L4 18.59l7.72-7.72 1.47 1.35L5.41 20z\"/>\n",
              "  </svg>\n",
              "      </button>\n",
              "      \n",
              "  <style>\n",
              "    .colab-df-container {\n",
              "      display:flex;\n",
              "      flex-wrap:wrap;\n",
              "      gap: 12px;\n",
              "    }\n",
              "\n",
              "    .colab-df-convert {\n",
              "      background-color: #E8F0FE;\n",
              "      border: none;\n",
              "      border-radius: 50%;\n",
              "      cursor: pointer;\n",
              "      display: none;\n",
              "      fill: #1967D2;\n",
              "      height: 32px;\n",
              "      padding: 0 0 0 0;\n",
              "      width: 32px;\n",
              "    }\n",
              "\n",
              "    .colab-df-convert:hover {\n",
              "      background-color: #E2EBFA;\n",
              "      box-shadow: 0px 1px 2px rgba(60, 64, 67, 0.3), 0px 1px 3px 1px rgba(60, 64, 67, 0.15);\n",
              "      fill: #174EA6;\n",
              "    }\n",
              "\n",
              "    [theme=dark] .colab-df-convert {\n",
              "      background-color: #3B4455;\n",
              "      fill: #D2E3FC;\n",
              "    }\n",
              "\n",
              "    [theme=dark] .colab-df-convert:hover {\n",
              "      background-color: #434B5C;\n",
              "      box-shadow: 0px 1px 3px 1px rgba(0, 0, 0, 0.15);\n",
              "      filter: drop-shadow(0px 1px 2px rgba(0, 0, 0, 0.3));\n",
              "      fill: #FFFFFF;\n",
              "    }\n",
              "  </style>\n",
              "\n",
              "      <script>\n",
              "        const buttonEl =\n",
              "          document.querySelector('#df-23d788c4-59a3-4de2-8e52-c7fc638a3a7b button.colab-df-convert');\n",
              "        buttonEl.style.display =\n",
              "          google.colab.kernel.accessAllowed ? 'block' : 'none';\n",
              "\n",
              "        async function convertToInteractive(key) {\n",
              "          const element = document.querySelector('#df-23d788c4-59a3-4de2-8e52-c7fc638a3a7b');\n",
              "          const dataTable =\n",
              "            await google.colab.kernel.invokeFunction('convertToInteractive',\n",
              "                                                     [key], {});\n",
              "          if (!dataTable) return;\n",
              "\n",
              "          const docLinkHtml = 'Like what you see? Visit the ' +\n",
              "            '<a target=\"_blank\" href=https://colab.research.google.com/notebooks/data_table.ipynb>data table notebook</a>'\n",
              "            + ' to learn more about interactive tables.';\n",
              "          element.innerHTML = '';\n",
              "          dataTable['output_type'] = 'display_data';\n",
              "          await google.colab.output.renderOutput(dataTable, element);\n",
              "          const docLink = document.createElement('div');\n",
              "          docLink.innerHTML = docLinkHtml;\n",
              "          element.appendChild(docLink);\n",
              "        }\n",
              "      </script>\n",
              "    </div>\n",
              "  </div>\n",
              "  "
            ],
            "text/plain": [
              "          KepID  KepMag  Teff(SDSS)  F_8(Corr)  R(Corr)  Zcross\n",
              "0     1164109.0   10.88      6607.0     0.0630     3.68    27.0\n",
              "1     1725815.0   10.83      6550.0     0.0497     0.28    75.0\n",
              "2     1868918.0   11.56      6252.0     0.0470     0.43    84.0\n",
              "3     2010835.0   11.33      6103.0     0.0530     0.14   245.0\n",
              "4     2013883.0   11.21      6278.0     0.0556     0.48    32.0\n",
              "..          ...     ...         ...        ...      ...     ...\n",
              "537  12555505.0    9.62      5704.0     0.0298     0.29    49.0\n",
              "538  12600459.0   10.41      6303.0     0.0409     0.43    93.0\n",
              "539  12602236.0   10.15      6522.0     0.0447     0.89    65.0\n",
              "540  12690331.0   11.48      6626.0     0.0668     0.51    67.0\n",
              "541  12735580.0   11.49      6170.0     0.0736     0.33   126.0\n",
              "\n",
              "[542 rows x 6 columns]"
            ]
          },
          "metadata": {},
          "execution_count": 6
        }
      ],
      "source": [
        "df"
      ]
    },
    {
      "cell_type": "code",
      "source": [
        "sample=[5449910.,4543923.0,9657636.0, 8779965.0, 3939679.0, 11083613.0]"
      ],
      "metadata": {
        "id": "yBLAy-SB93hA"
      },
      "execution_count": 30,
      "outputs": []
    },
    {
      "cell_type": "markdown",
      "source": [
        "The data used by Bastien is used to crosscheck the working of the code. First, the outliers were removed from the lightcurves. The scattered points are interpolated from the flux values over the time period of nineth quarter. To get the flicker, a third order polynomial is fit. The curves are sigma clipped and using Boxcar fitting, the rms is found. The  "
      ],
      "metadata": {
        "id": "dTD8g6zIqKKL"
      }
    },
    {
      "cell_type": "code",
      "execution_count": null,
      "metadata": {
        "id": "tE1vXpeGzdXS"
      },
      "outputs": [],
      "source": [
        "download = 0\n",
        "flr_rms_list  = []\n",
        "flkr_list     = []\n",
        "logg_list     = []\n",
        "\n",
        "count = 0\n",
        "for id in df['KepID']:\n",
        "  name    = id\n",
        "  source  = lk.search_lightcurve(name, author=\"Kepler\", cadence=\"long\",quarter = 9).download()\n",
        "  count+=1\n",
        "  \n",
        "  # Removing outliers\n",
        "  rem_out = source.remove_nans().remove_outliers()\n",
        "  \n",
        "  test = rem_out.flatten(polyorder=3)\n",
        "\n",
        "  flux    = rem_out.flux.value\n",
        "  time    = rem_out.time.value\n",
        "\n",
        "  # Interpolating data\n",
        "  f = interp1d(time,flux)\n",
        "  size = len(time)*3      # Size increased 3 times\n",
        "  x = np.linspace(time.min(), time.max(),size)\n",
        "  y = f(x)\n",
        "\n",
        "  # Fitting a polynomial of order 3\n",
        "  init = models.Polynomial1D(3)\n",
        "\n",
        "  fit  = fitting.LevMarLSQFitter()\n",
        "\n",
        "  model = fit(init,x,y)\n",
        "  \n",
        "  # Model subtraction\n",
        "  data = y-model(x)\n",
        "\n",
        "  # Sigma clipping\n",
        "\n",
        "  flux_out = sigma_clip(data,sigma=2.5)\n",
        "\n",
        "  mult = size/((time.max()-time.min())*24)\n",
        "\n",
        "  # Box smoothening with Box size = 8 hours\n",
        "\n",
        "  smoothed_signal = convolve(flux_out, Box1DKernel(8*mult),boundary='extend')\n",
        "\n",
        "  flicker = flux_out-smoothed_signal\n",
        "\n",
        "  flr_rms_list.append(np.sqrt( (flicker**2).mean()))\n",
        "\n",
        "  logg_list.append(source.LOGG) "
      ]
    },
    {
      "cell_type": "markdown",
      "source": [
        "The table is added with the calculated Flickers and the error percentage is obtained. "
      ],
      "metadata": {
        "id": "_h38F41x7AU8"
      }
    },
    {
      "cell_type": "code",
      "source": [
        "df['LogG'] = logg_list\n",
        "flickers = np.array(flr_rms_list)/1000\n",
        "df['F_8(Calculated)'] = flickers\n",
        "f8_error = (df['F_8(Corr)'].values - df['F_8(LK)'].values)/df['F_8(Corr)'].values\n",
        "df['F8_error'] = f8_error\n",
        "df"
      ],
      "metadata": {
        "id": "rEdOqhEf7XWb",
        "outputId": "e9e3167e-b579-4276-d7e5-9c8adbdbd3bd",
        "colab": {
          "base_uri": "https://localhost:8080/",
          "height": 423
        }
      },
      "execution_count": 71,
      "outputs": [
        {
          "output_type": "execute_result",
          "data": {
            "text/html": [
              "\n",
              "  <div id=\"df-60a429ca-e002-488d-973d-2ee186c355d8\">\n",
              "    <div class=\"colab-df-container\">\n",
              "      <div>\n",
              "<style scoped>\n",
              "    .dataframe tbody tr th:only-of-type {\n",
              "        vertical-align: middle;\n",
              "    }\n",
              "\n",
              "    .dataframe tbody tr th {\n",
              "        vertical-align: top;\n",
              "    }\n",
              "\n",
              "    .dataframe thead th {\n",
              "        text-align: right;\n",
              "    }\n",
              "</style>\n",
              "<table border=\"1\" class=\"dataframe\">\n",
              "  <thead>\n",
              "    <tr style=\"text-align: right;\">\n",
              "      <th></th>\n",
              "      <th>KepID</th>\n",
              "      <th>KepMag</th>\n",
              "      <th>Teff(SDSS)</th>\n",
              "      <th>F_8(Corr)</th>\n",
              "      <th>R(Corr)</th>\n",
              "      <th>Zcross</th>\n",
              "      <th>LogG</th>\n",
              "      <th>F_8(LK)</th>\n",
              "      <th>F_8(Calculated)</th>\n",
              "      <th>F8_error</th>\n",
              "    </tr>\n",
              "  </thead>\n",
              "  <tbody>\n",
              "    <tr>\n",
              "      <th>0</th>\n",
              "      <td>1164109.0</td>\n",
              "      <td>10.88</td>\n",
              "      <td>6607.0</td>\n",
              "      <td>0.0630</td>\n",
              "      <td>3.68</td>\n",
              "      <td>27.0</td>\n",
              "      <td>4.105</td>\n",
              "      <td>0.036239</td>\n",
              "      <td>0.036239</td>\n",
              "      <td>0.424779</td>\n",
              "    </tr>\n",
              "    <tr>\n",
              "      <th>1</th>\n",
              "      <td>1725815.0</td>\n",
              "      <td>10.83</td>\n",
              "      <td>6550.0</td>\n",
              "      <td>0.0497</td>\n",
              "      <td>0.28</td>\n",
              "      <td>75.0</td>\n",
              "      <td>3.982</td>\n",
              "      <td>0.027745</td>\n",
              "      <td>0.027745</td>\n",
              "      <td>0.441755</td>\n",
              "    </tr>\n",
              "    <tr>\n",
              "      <th>2</th>\n",
              "      <td>1868918.0</td>\n",
              "      <td>11.56</td>\n",
              "      <td>6252.0</td>\n",
              "      <td>0.0470</td>\n",
              "      <td>0.43</td>\n",
              "      <td>84.0</td>\n",
              "      <td>4.207</td>\n",
              "      <td>0.016118</td>\n",
              "      <td>0.016118</td>\n",
              "      <td>0.657059</td>\n",
              "    </tr>\n",
              "    <tr>\n",
              "      <th>3</th>\n",
              "      <td>2010835.0</td>\n",
              "      <td>11.33</td>\n",
              "      <td>6103.0</td>\n",
              "      <td>0.0530</td>\n",
              "      <td>0.14</td>\n",
              "      <td>245.0</td>\n",
              "      <td>4.125</td>\n",
              "      <td>0.019205</td>\n",
              "      <td>0.019205</td>\n",
              "      <td>0.637644</td>\n",
              "    </tr>\n",
              "    <tr>\n",
              "      <th>4</th>\n",
              "      <td>2013883.0</td>\n",
              "      <td>11.21</td>\n",
              "      <td>6278.0</td>\n",
              "      <td>0.0556</td>\n",
              "      <td>0.48</td>\n",
              "      <td>32.0</td>\n",
              "      <td>4.456</td>\n",
              "      <td>0.023834</td>\n",
              "      <td>0.023834</td>\n",
              "      <td>0.571323</td>\n",
              "    </tr>\n",
              "    <tr>\n",
              "      <th>...</th>\n",
              "      <td>...</td>\n",
              "      <td>...</td>\n",
              "      <td>...</td>\n",
              "      <td>...</td>\n",
              "      <td>...</td>\n",
              "      <td>...</td>\n",
              "      <td>...</td>\n",
              "      <td>...</td>\n",
              "      <td>...</td>\n",
              "      <td>...</td>\n",
              "    </tr>\n",
              "    <tr>\n",
              "      <th>537</th>\n",
              "      <td>12555505.0</td>\n",
              "      <td>9.62</td>\n",
              "      <td>5704.0</td>\n",
              "      <td>0.0298</td>\n",
              "      <td>0.29</td>\n",
              "      <td>49.0</td>\n",
              "      <td>4.380</td>\n",
              "      <td>0.051143</td>\n",
              "      <td>0.051143</td>\n",
              "      <td>-0.716209</td>\n",
              "    </tr>\n",
              "    <tr>\n",
              "      <th>538</th>\n",
              "      <td>12600459.0</td>\n",
              "      <td>10.41</td>\n",
              "      <td>6303.0</td>\n",
              "      <td>0.0409</td>\n",
              "      <td>0.43</td>\n",
              "      <td>93.0</td>\n",
              "      <td>4.303</td>\n",
              "      <td>0.032567</td>\n",
              "      <td>0.032567</td>\n",
              "      <td>0.203731</td>\n",
              "    </tr>\n",
              "    <tr>\n",
              "      <th>539</th>\n",
              "      <td>12602236.0</td>\n",
              "      <td>10.15</td>\n",
              "      <td>6522.0</td>\n",
              "      <td>0.0447</td>\n",
              "      <td>0.89</td>\n",
              "      <td>65.0</td>\n",
              "      <td>4.196</td>\n",
              "      <td>0.058380</td>\n",
              "      <td>0.058380</td>\n",
              "      <td>-0.306044</td>\n",
              "    </tr>\n",
              "    <tr>\n",
              "      <th>540</th>\n",
              "      <td>12690331.0</td>\n",
              "      <td>11.48</td>\n",
              "      <td>6626.0</td>\n",
              "      <td>0.0668</td>\n",
              "      <td>0.51</td>\n",
              "      <td>67.0</td>\n",
              "      <td>3.969</td>\n",
              "      <td>0.017994</td>\n",
              "      <td>0.017994</td>\n",
              "      <td>0.730630</td>\n",
              "    </tr>\n",
              "    <tr>\n",
              "      <th>541</th>\n",
              "      <td>12735580.0</td>\n",
              "      <td>11.49</td>\n",
              "      <td>6170.0</td>\n",
              "      <td>0.0736</td>\n",
              "      <td>0.33</td>\n",
              "      <td>126.0</td>\n",
              "      <td>3.994</td>\n",
              "      <td>0.019792</td>\n",
              "      <td>0.019792</td>\n",
              "      <td>0.731084</td>\n",
              "    </tr>\n",
              "  </tbody>\n",
              "</table>\n",
              "<p>542 rows × 10 columns</p>\n",
              "</div>\n",
              "      <button class=\"colab-df-convert\" onclick=\"convertToInteractive('df-60a429ca-e002-488d-973d-2ee186c355d8')\"\n",
              "              title=\"Convert this dataframe to an interactive table.\"\n",
              "              style=\"display:none;\">\n",
              "        \n",
              "  <svg xmlns=\"http://www.w3.org/2000/svg\" height=\"24px\"viewBox=\"0 0 24 24\"\n",
              "       width=\"24px\">\n",
              "    <path d=\"M0 0h24v24H0V0z\" fill=\"none\"/>\n",
              "    <path d=\"M18.56 5.44l.94 2.06.94-2.06 2.06-.94-2.06-.94-.94-2.06-.94 2.06-2.06.94zm-11 1L8.5 8.5l.94-2.06 2.06-.94-2.06-.94L8.5 2.5l-.94 2.06-2.06.94zm10 10l.94 2.06.94-2.06 2.06-.94-2.06-.94-.94-2.06-.94 2.06-2.06.94z\"/><path d=\"M17.41 7.96l-1.37-1.37c-.4-.4-.92-.59-1.43-.59-.52 0-1.04.2-1.43.59L10.3 9.45l-7.72 7.72c-.78.78-.78 2.05 0 2.83L4 21.41c.39.39.9.59 1.41.59.51 0 1.02-.2 1.41-.59l7.78-7.78 2.81-2.81c.8-.78.8-2.07 0-2.86zM5.41 20L4 18.59l7.72-7.72 1.47 1.35L5.41 20z\"/>\n",
              "  </svg>\n",
              "      </button>\n",
              "      \n",
              "  <style>\n",
              "    .colab-df-container {\n",
              "      display:flex;\n",
              "      flex-wrap:wrap;\n",
              "      gap: 12px;\n",
              "    }\n",
              "\n",
              "    .colab-df-convert {\n",
              "      background-color: #E8F0FE;\n",
              "      border: none;\n",
              "      border-radius: 50%;\n",
              "      cursor: pointer;\n",
              "      display: none;\n",
              "      fill: #1967D2;\n",
              "      height: 32px;\n",
              "      padding: 0 0 0 0;\n",
              "      width: 32px;\n",
              "    }\n",
              "\n",
              "    .colab-df-convert:hover {\n",
              "      background-color: #E2EBFA;\n",
              "      box-shadow: 0px 1px 2px rgba(60, 64, 67, 0.3), 0px 1px 3px 1px rgba(60, 64, 67, 0.15);\n",
              "      fill: #174EA6;\n",
              "    }\n",
              "\n",
              "    [theme=dark] .colab-df-convert {\n",
              "      background-color: #3B4455;\n",
              "      fill: #D2E3FC;\n",
              "    }\n",
              "\n",
              "    [theme=dark] .colab-df-convert:hover {\n",
              "      background-color: #434B5C;\n",
              "      box-shadow: 0px 1px 3px 1px rgba(0, 0, 0, 0.15);\n",
              "      filter: drop-shadow(0px 1px 2px rgba(0, 0, 0, 0.3));\n",
              "      fill: #FFFFFF;\n",
              "    }\n",
              "  </style>\n",
              "\n",
              "      <script>\n",
              "        const buttonEl =\n",
              "          document.querySelector('#df-60a429ca-e002-488d-973d-2ee186c355d8 button.colab-df-convert');\n",
              "        buttonEl.style.display =\n",
              "          google.colab.kernel.accessAllowed ? 'block' : 'none';\n",
              "\n",
              "        async function convertToInteractive(key) {\n",
              "          const element = document.querySelector('#df-60a429ca-e002-488d-973d-2ee186c355d8');\n",
              "          const dataTable =\n",
              "            await google.colab.kernel.invokeFunction('convertToInteractive',\n",
              "                                                     [key], {});\n",
              "          if (!dataTable) return;\n",
              "\n",
              "          const docLinkHtml = 'Like what you see? Visit the ' +\n",
              "            '<a target=\"_blank\" href=https://colab.research.google.com/notebooks/data_table.ipynb>data table notebook</a>'\n",
              "            + ' to learn more about interactive tables.';\n",
              "          element.innerHTML = '';\n",
              "          dataTable['output_type'] = 'display_data';\n",
              "          await google.colab.output.renderOutput(dataTable, element);\n",
              "          const docLink = document.createElement('div');\n",
              "          docLink.innerHTML = docLinkHtml;\n",
              "          element.appendChild(docLink);\n",
              "        }\n",
              "      </script>\n",
              "    </div>\n",
              "  </div>\n",
              "  "
            ],
            "text/plain": [
              "          KepID  KepMag  Teff(SDSS)  ...   F_8(LK)  F_8(Calculated)  F8_error\n",
              "0     1164109.0   10.88      6607.0  ...  0.036239         0.036239  0.424779\n",
              "1     1725815.0   10.83      6550.0  ...  0.027745         0.027745  0.441755\n",
              "2     1868918.0   11.56      6252.0  ...  0.016118         0.016118  0.657059\n",
              "3     2010835.0   11.33      6103.0  ...  0.019205         0.019205  0.637644\n",
              "4     2013883.0   11.21      6278.0  ...  0.023834         0.023834  0.571323\n",
              "..          ...     ...         ...  ...       ...              ...       ...\n",
              "537  12555505.0    9.62      5704.0  ...  0.051143         0.051143 -0.716209\n",
              "538  12600459.0   10.41      6303.0  ...  0.032567         0.032567  0.203731\n",
              "539  12602236.0   10.15      6522.0  ...  0.058380         0.058380 -0.306044\n",
              "540  12690331.0   11.48      6626.0  ...  0.017994         0.017994  0.730630\n",
              "541  12735580.0   11.49      6170.0  ...  0.019792         0.019792  0.731084\n",
              "\n",
              "[542 rows x 10 columns]"
            ]
          },
          "metadata": {},
          "execution_count": 71
        }
      ]
    },
    {
      "cell_type": "markdown",
      "source": [
        "The flickers calculated are plotted with the range and log g."
      ],
      "metadata": {
        "id": "o8K3y05q8aXt"
      }
    },
    {
      "cell_type": "code",
      "execution_count": null,
      "metadata": {
        "colab": {
          "base_uri": "https://localhost:8080/",
          "height": 518
        },
        "id": "j8BL_kI6fQfE",
        "outputId": "6c4b4e1f-c2a5-4d99-a6a0-1e0d7eafa849"
      },
      "outputs": [
        {
          "output_type": "execute_result",
          "data": {
            "text/plain": [
              "Text(0, 0.5, '$\\\\log_{10}[R_{var}$(p.p.t Kepmag corrected)]')"
            ]
          },
          "metadata": {},
          "execution_count": 26
        },
        {
          "output_type": "display_data",
          "data": {
            "image/png": "[encoded data removed]",
            "text/plain": [
              "<Figure size 864x576 with 2 Axes>"
            ]
          },
          "metadata": {}
        }
      ],
      "source": [
        "x = df['F_8(Calculated)']\n",
        "y = np.log10(df['R(Corr)'])\n",
        "c = df['LogG']\n",
        "s = df['Zcross']\n",
        "plt.figure(figsize = (12,8))\n",
        "img = plt.scatter(x,y,c=c*0.9,s=s*1.5,cmap='gist_rainbow',vmin=2.5,vmax=5.2)\n",
        "plt.colorbar(img,label=r'Astroseismic $log_{10}g$ ($cm$  $s^{-2}$)')\n",
        "plt.xlabel(r'$F_8$ (p.p.t, Kepmag corrected)')\n",
        "plt.ylabel(r'$\\log_{10}[R_{var}$(p.p.t Kepmag corrected)]')"
      ]
    },
    {
      "cell_type": "markdown",
      "source": [
        "The Flicker plot obtained from the data of Bastein."
      ],
      "metadata": {
        "id": "jDr_LZWf8wvY"
      }
    },
    {
      "cell_type": "code",
      "execution_count": null,
      "metadata": {
        "colab": {
          "base_uri": "https://localhost:8080/",
          "height": 518
        },
        "id": "YRcHLFpHfPjK",
        "outputId": "d4ebbee0-be99-40ee-e152-69c76ec7b045"
      },
      "outputs": [
        {
          "output_type": "execute_result",
          "data": {
            "text/plain": [
              "Text(0, 0.5, '$\\\\log_{10}[R_{var}$(p.p.t Kepmag corrected)]')"
            ]
          },
          "metadata": {},
          "execution_count": 18
        },
        {
          "output_type": "display_data",
          "data": {
            "image/png": "[encoded data removed]",
            "text/plain": [
              "<Figure size 864x576 with 2 Axes>"
            ]
          },
          "metadata": {}
        }
      ],
      "source": [
        " = df['F_8(Corr)']\n",
        "y = np.log10(df['R(Corr)'])\n",
        "c = df['LogG']\n",
        "s = df['Zcross']\n",
        "plt.figure(figsize = (12,8))\n",
        "img = plt.scatter(x,y,c=c*0.9,s=s*1.5,cmap='gist_rainbow',vmin=2.5,vmax=5.2)\n",
        "plt.colorbar(img,label=r'Astroseismic $log_{10}g$ ($cm$  $s^{-2}$)')\n",
        "plt.xlabel(r'$F_8$ (p.p.t, Kepmag corrected)')\n",
        "plt.ylabel(r'$\\log_{10}[R_{var}$(p.p.t Kepmag corrected)]')"
      ]
    },
    {
      "cell_type": "markdown",
      "source": [
        "The error is around 0 for some stars in the range 10 and 10.5 of Kep Meg. But some stars show a heavy difference in the F_8. But there is a pattern seen in the difference between the obtained flickers and from the paper. "
      ],
      "metadata": {
        "id": "L3pqPXJu87yq"
      }
    },
    {
      "cell_type": "code",
      "execution_count": 65,
      "metadata": {
        "id": "DEZQ36xphekg",
        "outputId": "c7938dac-5cac-48f2-af6f-dfa9061b1053",
        "colab": {
          "base_uri": "https://localhost:8080/",
          "height": 500
        }
      },
      "outputs": [
        {
          "output_type": "execute_result",
          "data": {
            "text/plain": [
              "<matplotlib.collections.PathCollection at 0x7f5108517fd0>"
            ]
          },
          "metadata": {},
          "execution_count": 65
        },
        {
          "output_type": "display_data",
          "data": {
            "image/png": "[encoded data removed]",
            "text/plain": [
              "<Figure size 1080x576 with 1 Axes>"
            ]
          },
          "metadata": {}
        }
      ],
      "source": [
        "plt.scatter(df['KepMag'],f8_error)"
      ]
    },
    {
      "cell_type": "code",
      "source": [
        "table"
      ],
      "metadata": {
        "id": "uNlmmoyx_Ieu",
        "outputId": "54357f60-281e-4be0-ca30-f6e778687aa4",
        "colab": {
          "base_uri": "https://localhost:8080/",
          "height": 238
        }
      },
      "execution_count": 72,
      "outputs": [
        {
          "output_type": "execute_result",
          "data": {
            "text/html": [
              "\n",
              "  <div id=\"df-92403767-f286-4b24-863c-771e3ec0e559\">\n",
              "    <div class=\"colab-df-container\">\n",
              "      <div>\n",
              "<style scoped>\n",
              "    .dataframe tbody tr th:only-of-type {\n",
              "        vertical-align: middle;\n",
              "    }\n",
              "\n",
              "    .dataframe tbody tr th {\n",
              "        vertical-align: top;\n",
              "    }\n",
              "\n",
              "    .dataframe thead th {\n",
              "        text-align: right;\n",
              "    }\n",
              "</style>\n",
              "<table border=\"1\" class=\"dataframe\">\n",
              "  <thead>\n",
              "    <tr style=\"text-align: right;\">\n",
              "      <th></th>\n",
              "      <th>calc flicker</th>\n",
              "      <th>Bastien flicker</th>\n",
              "      <th>Flicker error</th>\n",
              "      <th>Kep Mag</th>\n",
              "    </tr>\n",
              "  </thead>\n",
              "  <tbody>\n",
              "    <tr>\n",
              "      <th>0</th>\n",
              "      <td>0.017062</td>\n",
              "      <td>0.046</td>\n",
              "      <td>0.629089</td>\n",
              "      <td>11.235</td>\n",
              "    </tr>\n",
              "    <tr>\n",
              "      <th>1</th>\n",
              "      <td>0.018470</td>\n",
              "      <td>0.055</td>\n",
              "      <td>0.664183</td>\n",
              "      <td>11.623</td>\n",
              "    </tr>\n",
              "    <tr>\n",
              "      <th>2</th>\n",
              "      <td>0.017200</td>\n",
              "      <td>0.049</td>\n",
              "      <td>0.648975</td>\n",
              "      <td>11.253</td>\n",
              "    </tr>\n",
              "    <tr>\n",
              "      <th>3</th>\n",
              "      <td>0.015613</td>\n",
              "      <td>0.067</td>\n",
              "      <td>0.766977</td>\n",
              "      <td>11.730</td>\n",
              "    </tr>\n",
              "    <tr>\n",
              "      <th>4</th>\n",
              "      <td>0.069273</td>\n",
              "      <td>0.171</td>\n",
              "      <td>0.594896</td>\n",
              "      <td>11.099</td>\n",
              "    </tr>\n",
              "    <tr>\n",
              "      <th>5</th>\n",
              "      <td>0.083925</td>\n",
              "      <td>0.284</td>\n",
              "      <td>0.704490</td>\n",
              "      <td>11.629</td>\n",
              "    </tr>\n",
              "  </tbody>\n",
              "</table>\n",
              "</div>\n",
              "      <button class=\"colab-df-convert\" onclick=\"convertToInteractive('df-92403767-f286-4b24-863c-771e3ec0e559')\"\n",
              "              title=\"Convert this dataframe to an interactive table.\"\n",
              "              style=\"display:none;\">\n",
              "        \n",
              "  <svg xmlns=\"http://www.w3.org/2000/svg\" height=\"24px\"viewBox=\"0 0 24 24\"\n",
              "       width=\"24px\">\n",
              "    <path d=\"M0 0h24v24H0V0z\" fill=\"none\"/>\n",
              "    <path d=\"M18.56 5.44l.94 2.06.94-2.06 2.06-.94-2.06-.94-.94-2.06-.94 2.06-2.06.94zm-11 1L8.5 8.5l.94-2.06 2.06-.94-2.06-.94L8.5 2.5l-.94 2.06-2.06.94zm10 10l.94 2.06.94-2.06 2.06-.94-2.06-.94-.94-2.06-.94 2.06-2.06.94z\"/><path d=\"M17.41 7.96l-1.37-1.37c-.4-.4-.92-.59-1.43-.59-.52 0-1.04.2-1.43.59L10.3 9.45l-7.72 7.72c-.78.78-.78 2.05 0 2.83L4 21.41c.39.39.9.59 1.41.59.51 0 1.02-.2 1.41-.59l7.78-7.78 2.81-2.81c.8-.78.8-2.07 0-2.86zM5.41 20L4 18.59l7.72-7.72 1.47 1.35L5.41 20z\"/>\n",
              "  </svg>\n",
              "      </button>\n",
              "      \n",
              "  <style>\n",
              "    .colab-df-container {\n",
              "      display:flex;\n",
              "      flex-wrap:wrap;\n",
              "      gap: 12px;\n",
              "    }\n",
              "\n",
              "    .colab-df-convert {\n",
              "      background-color: #E8F0FE;\n",
              "      border: none;\n",
              "      border-radius: 50%;\n",
              "      cursor: pointer;\n",
              "      display: none;\n",
              "      fill: #1967D2;\n",
              "      height: 32px;\n",
              "      padding: 0 0 0 0;\n",
              "      width: 32px;\n",
              "    }\n",
              "\n",
              "    .colab-df-convert:hover {\n",
              "      background-color: #E2EBFA;\n",
              "      box-shadow: 0px 1px 2px rgba(60, 64, 67, 0.3), 0px 1px 3px 1px rgba(60, 64, 67, 0.15);\n",
              "      fill: #174EA6;\n",
              "    }\n",
              "\n",
              "    [theme=dark] .colab-df-convert {\n",
              "      background-color: #3B4455;\n",
              "      fill: #D2E3FC;\n",
              "    }\n",
              "\n",
              "    [theme=dark] .colab-df-convert:hover {\n",
              "      background-color: #434B5C;\n",
              "      box-shadow: 0px 1px 3px 1px rgba(0, 0, 0, 0.15);\n",
              "      filter: drop-shadow(0px 1px 2px rgba(0, 0, 0, 0.3));\n",
              "      fill: #FFFFFF;\n",
              "    }\n",
              "  </style>\n",
              "\n",
              "      <script>\n",
              "        const buttonEl =\n",
              "          document.querySelector('#df-92403767-f286-4b24-863c-771e3ec0e559 button.colab-df-convert');\n",
              "        buttonEl.style.display =\n",
              "          google.colab.kernel.accessAllowed ? 'block' : 'none';\n",
              "\n",
              "        async function convertToInteractive(key) {\n",
              "          const element = document.querySelector('#df-92403767-f286-4b24-863c-771e3ec0e559');\n",
              "          const dataTable =\n",
              "            await google.colab.kernel.invokeFunction('convertToInteractive',\n",
              "                                                     [key], {});\n",
              "          if (!dataTable) return;\n",
              "\n",
              "          const docLinkHtml = 'Like what you see? Visit the ' +\n",
              "            '<a target=\"_blank\" href=https://colab.research.google.com/notebooks/data_table.ipynb>data table notebook</a>'\n",
              "            + ' to learn more about interactive tables.';\n",
              "          element.innerHTML = '';\n",
              "          dataTable['output_type'] = 'display_data';\n",
              "          await google.colab.output.renderOutput(dataTable, element);\n",
              "          const docLink = document.createElement('div');\n",
              "          docLink.innerHTML = docLinkHtml;\n",
              "          element.appendChild(docLink);\n",
              "        }\n",
              "      </script>\n",
              "    </div>\n",
              "  </div>\n",
              "  "
            ],
            "text/plain": [
              "   calc flicker  Bastien flicker  Flicker error  Kep Mag\n",
              "0      0.017062            0.046       0.629089   11.235\n",
              "1      0.018470            0.055       0.664183   11.623\n",
              "2      0.017200            0.049       0.648975   11.253\n",
              "3      0.015613            0.067       0.766977   11.730\n",
              "4      0.069273            0.171       0.594896   11.099\n",
              "5      0.083925            0.284       0.704490   11.629"
            ]
          },
          "metadata": {},
          "execution_count": 72
        }
      ]
    },
    {
      "cell_type": "code",
      "source": [
        " flickers = np.array(flr_rms_list)/1000\n",
        " flickers"
      ],
      "metadata": {
        "id": "O098_f_K-U0A",
        "outputId": "2734d51c-2ae0-4b06-df80-0aa1a7877010",
        "colab": {
          "base_uri": "https://localhost:8080/"
        }
      },
      "execution_count": 40,
      "outputs": [
        {
          "output_type": "execute_result",
          "data": {
            "text/plain": [
              "array([0.01706189, 0.01846995, 0.01720024, 0.01561255, 0.06927283,\n",
              "       0.08392491])"
            ]
          },
          "metadata": {},
          "execution_count": 40
        }
      ]
    },
    {
      "cell_type": "markdown",
      "metadata": {
        "id": "XOdDSsPi5e2L"
      },
      "source": [
        "10000 = 21600 hours"
      ]
    },
    {
      "cell_type": "code",
      "source": [
        "Kep_Magnitude = np.array([11.235, 11.623, 11.253, 11.730, 11.099, 11.629])\n",
        "F8_pap= np.array([0.046, 0.055, 0.049, 0.067, 0.171, 0.284]) \n",
        "f8_diff = (F8_pap - flickers)/F8_pap\n",
        "plt.scatter(Kep_Magnitude,f8_diff)"
      ],
      "metadata": {
        "id": "Z_v6yyyBEcyP",
        "outputId": "5a895358-2a8c-40fa-81a3-301cb6b0c3ed",
        "colab": {
          "base_uri": "https://localhost:8080/",
          "height": 502
        }
      },
      "execution_count": 49,
      "outputs": [
        {
          "output_type": "execute_result",
          "data": {
            "text/plain": [
              "<matplotlib.collections.PathCollection at 0x7f51108b3610>"
            ]
          },
          "metadata": {},
          "execution_count": 49
        },
        {
          "output_type": "display_data",
          "data": {
            "image/png": "[encoded data removed]",
            "text/plain": [
              "<Figure size 1080x576 with 1 Axes>"
            ]
          },
          "metadata": {}
        }
      ]
    },
    {
      "cell_type": "code",
      "source": [
        "sum={'calc flicker':flickers,'Bastien flicker':F8_pap, 'Flicker error':f8_diff, 'Kep Mag': Kep_Magnitude}\n",
        "table=pd.DataFrame(sum)\n",
        "table"
      ],
      "metadata": {
        "id": "yEm1XV4za9m4",
        "outputId": "f339c23e-e13a-4c9e-afa9-c2c02ad40691",
        "colab": {
          "base_uri": "https://localhost:8080/",
          "height": 238
        }
      },
      "execution_count": 50,
      "outputs": [
        {
          "output_type": "execute_result",
          "data": {
            "text/html": [
              "\n",
              "  <div id=\"df-639d0401-2dce-4c51-9487-d67347b40048\">\n",
              "    <div class=\"colab-df-container\">\n",
              "      <div>\n",
              "<style scoped>\n",
              "    .dataframe tbody tr th:only-of-type {\n",
              "        vertical-align: middle;\n",
              "    }\n",
              "\n",
              "    .dataframe tbody tr th {\n",
              "        vertical-align: top;\n",
              "    }\n",
              "\n",
              "    .dataframe thead th {\n",
              "        text-align: right;\n",
              "    }\n",
              "</style>\n",
              "<table border=\"1\" class=\"dataframe\">\n",
              "  <thead>\n",
              "    <tr style=\"text-align: right;\">\n",
              "      <th></th>\n",
              "      <th>calc flicker</th>\n",
              "      <th>Bastien flicker</th>\n",
              "      <th>Flicker error</th>\n",
              "      <th>Kep Mag</th>\n",
              "    </tr>\n",
              "  </thead>\n",
              "  <tbody>\n",
              "    <tr>\n",
              "      <th>0</th>\n",
              "      <td>0.017062</td>\n",
              "      <td>0.046</td>\n",
              "      <td>0.629089</td>\n",
              "      <td>11.235</td>\n",
              "    </tr>\n",
              "    <tr>\n",
              "      <th>1</th>\n",
              "      <td>0.018470</td>\n",
              "      <td>0.055</td>\n",
              "      <td>0.664183</td>\n",
              "      <td>11.623</td>\n",
              "    </tr>\n",
              "    <tr>\n",
              "      <th>2</th>\n",
              "      <td>0.017200</td>\n",
              "      <td>0.049</td>\n",
              "      <td>0.648975</td>\n",
              "      <td>11.253</td>\n",
              "    </tr>\n",
              "    <tr>\n",
              "      <th>3</th>\n",
              "      <td>0.015613</td>\n",
              "      <td>0.067</td>\n",
              "      <td>0.766977</td>\n",
              "      <td>11.730</td>\n",
              "    </tr>\n",
              "    <tr>\n",
              "      <th>4</th>\n",
              "      <td>0.069273</td>\n",
              "      <td>0.171</td>\n",
              "      <td>0.594896</td>\n",
              "      <td>11.099</td>\n",
              "    </tr>\n",
              "    <tr>\n",
              "      <th>5</th>\n",
              "      <td>0.083925</td>\n",
              "      <td>0.284</td>\n",
              "      <td>0.704490</td>\n",
              "      <td>11.629</td>\n",
              "    </tr>\n",
              "  </tbody>\n",
              "</table>\n",
              "</div>\n",
              "      <button class=\"colab-df-convert\" onclick=\"convertToInteractive('df-639d0401-2dce-4c51-9487-d67347b40048')\"\n",
              "              title=\"Convert this dataframe to an interactive table.\"\n",
              "              style=\"display:none;\">\n",
              "        \n",
              "  <svg xmlns=\"http://www.w3.org/2000/svg\" height=\"24px\"viewBox=\"0 0 24 24\"\n",
              "       width=\"24px\">\n",
              "    <path d=\"M0 0h24v24H0V0z\" fill=\"none\"/>\n",
              "    <path d=\"M18.56 5.44l.94 2.06.94-2.06 2.06-.94-2.06-.94-.94-2.06-.94 2.06-2.06.94zm-11 1L8.5 8.5l.94-2.06 2.06-.94-2.06-.94L8.5 2.5l-.94 2.06-2.06.94zm10 10l.94 2.06.94-2.06 2.06-.94-2.06-.94-.94-2.06-.94 2.06-2.06.94z\"/><path d=\"M17.41 7.96l-1.37-1.37c-.4-.4-.92-.59-1.43-.59-.52 0-1.04.2-1.43.59L10.3 9.45l-7.72 7.72c-.78.78-.78 2.05 0 2.83L4 21.41c.39.39.9.59 1.41.59.51 0 1.02-.2 1.41-.59l7.78-7.78 2.81-2.81c.8-.78.8-2.07 0-2.86zM5.41 20L4 18.59l7.72-7.72 1.47 1.35L5.41 20z\"/>\n",
              "  </svg>\n",
              "      </button>\n",
              "      \n",
              "  <style>\n",
              "    .colab-df-container {\n",
              "      display:flex;\n",
              "      flex-wrap:wrap;\n",
              "      gap: 12px;\n",
              "    }\n",
              "\n",
              "    .colab-df-convert {\n",
              "      background-color: #E8F0FE;\n",
              "      border: none;\n",
              "      border-radius: 50%;\n",
              "      cursor: pointer;\n",
              "      display: none;\n",
              "      fill: #1967D2;\n",
              "      height: 32px;\n",
              "      padding: 0 0 0 0;\n",
              "      width: 32px;\n",
              "    }\n",
              "\n",
              "    .colab-df-convert:hover {\n",
              "      background-color: #E2EBFA;\n",
              "      box-shadow: 0px 1px 2px rgba(60, 64, 67, 0.3), 0px 1px 3px 1px rgba(60, 64, 67, 0.15);\n",
              "      fill: #174EA6;\n",
              "    }\n",
              "\n",
              "    [theme=dark] .colab-df-convert {\n",
              "      background-color: #3B4455;\n",
              "      fill: #D2E3FC;\n",
              "    }\n",
              "\n",
              "    [theme=dark] .colab-df-convert:hover {\n",
              "      background-color: #434B5C;\n",
              "      box-shadow: 0px 1px 3px 1px rgba(0, 0, 0, 0.15);\n",
              "      filter: drop-shadow(0px 1px 2px rgba(0, 0, 0, 0.3));\n",
              "      fill: #FFFFFF;\n",
              "    }\n",
              "  </style>\n",
              "\n",
              "      <script>\n",
              "        const buttonEl =\n",
              "          document.querySelector('#df-639d0401-2dce-4c51-9487-d67347b40048 button.colab-df-convert');\n",
              "        buttonEl.style.display =\n",
              "          google.colab.kernel.accessAllowed ? 'block' : 'none';\n",
              "\n",
              "        async function convertToInteractive(key) {\n",
              "          const element = document.querySelector('#df-639d0401-2dce-4c51-9487-d67347b40048');\n",
              "          const dataTable =\n",
              "            await google.colab.kernel.invokeFunction('convertToInteractive',\n",
              "                                                     [key], {});\n",
              "          if (!dataTable) return;\n",
              "\n",
              "          const docLinkHtml = 'Like what you see? Visit the ' +\n",
              "            '<a target=\"_blank\" href=https://colab.research.google.com/notebooks/data_table.ipynb>data table notebook</a>'\n",
              "            + ' to learn more about interactive tables.';\n",
              "          element.innerHTML = '';\n",
              "          dataTable['output_type'] = 'display_data';\n",
              "          await google.colab.output.renderOutput(dataTable, element);\n",
              "          const docLink = document.createElement('div');\n",
              "          docLink.innerHTML = docLinkHtml;\n",
              "          element.appendChild(docLink);\n",
              "        }\n",
              "      </script>\n",
              "    </div>\n",
              "  </div>\n",
              "  "
            ],
            "text/plain": [
              "   calc flicker  Bastien flicker  Flicker error  Kep Mag\n",
              "0      0.017062            0.046       0.629089   11.235\n",
              "1      0.018470            0.055       0.664183   11.623\n",
              "2      0.017200            0.049       0.648975   11.253\n",
              "3      0.015613            0.067       0.766977   11.730\n",
              "4      0.069273            0.171       0.594896   11.099\n",
              "5      0.083925            0.284       0.704490   11.629"
            ]
          },
          "metadata": {},
          "execution_count": 50
        }
      ]
    }
  ],
  "metadata": {
    "colab": {
      "collapsed_sections": [
        "2oILksFqzkB0",
        "BXH--svftnPN"
      ],
      "name": "Photometric_Flicker_Revisited.ipynb",
      "provenance": [],
      "include_colab_link": true
    },
    "kernelspec": {
      "display_name": "Python 3",
      "name": "python3"
    },
    "language_info": {
      "name": "python"
    }
  },
  "nbformat": 4,
  "nbformat_minor": 0
}