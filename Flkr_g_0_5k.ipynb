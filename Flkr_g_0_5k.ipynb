{
  "nbformat": 4,
  "nbformat_minor": 0,
  "metadata": {
    "colab": {
      "name": "Flkr_g_0:5k.ipynb",
      "provenance": [],
      "mount_file_id": "1n9haadCRjMPPYMxfLRpW8tbHOH05ZZJO",
      "authorship_tag": "ABX9TyNOlboYkTdDaR1dUl4UQmHO",
      "include_colab_link": true
    },
    "kernelspec": {
      "name": "python3",
      "display_name": "Python 3"
    },
    "language_info": {
      "name": "python"
    }
  },
  "cells": [
    {
      "cell_type": "markdown",
      "metadata": {
        "id": "view-in-github",
        "colab_type": "text"
      },
      "source": [
        "<a href=\"https://colab.research.google.com/github/Srivardini11/lark/blob/main/Flkr_g_0_5k.ipynb\" target=\"_parent\"><img src=\"https://colab.research.google.com/assets/colab-badge.svg\" alt=\"Open In Colab\"/></a>"
      ]
    },
    {
      "cell_type": "markdown",
      "metadata": {
        "id": "2oILksFqzkB0"
      },
      "source": [
        "# **Install**"
      ]
    },
    {
      "cell_type": "code",
      "execution_count": null,
      "metadata": {
        "colab": {
          "base_uri": "https://localhost:8080/"
        },
        "id": "BvfZ3PO3zZ9T",
        "outputId": "7778cd22-8f99-433f-cacc-e7e08a5a7dbe"
      },
      "outputs": [
        {
          "output_type": "stream",
          "name": "stdout",
          "text": [
            "\u001b[?25l\r\u001b[K     |█▎                              | 10 kB 20.8 MB/s eta 0:00:01\r\u001b[K     |██▋                             | 20 kB 24.3 MB/s eta 0:00:01\r\u001b[K     |████                            | 30 kB 30.2 MB/s eta 0:00:01\r\u001b[K     |█████▎                          | 40 kB 34.1 MB/s eta 0:00:01\r\u001b[K     |██████▋                         | 51 kB 32.5 MB/s eta 0:00:01\r\u001b[K     |████████                        | 61 kB 26.0 MB/s eta 0:00:01\r\u001b[K     |█████████▎                      | 71 kB 23.0 MB/s eta 0:00:01\r\u001b[K     |██████████▋                     | 81 kB 24.4 MB/s eta 0:00:01\r\u001b[K     |████████████                    | 92 kB 23.9 MB/s eta 0:00:01\r\u001b[K     |█████████████▎                  | 102 kB 23.8 MB/s eta 0:00:01\r\u001b[K     |██████████████▋                 | 112 kB 23.8 MB/s eta 0:00:01\r\u001b[K     |███████████████▉                | 122 kB 23.8 MB/s eta 0:00:01\r\u001b[K     |█████████████████▏              | 133 kB 23.8 MB/s eta 0:00:01\r\u001b[K     |██████████████████▌             | 143 kB 23.8 MB/s eta 0:00:01\r\u001b[K     |███████████████████▉            | 153 kB 23.8 MB/s eta 0:00:01\r\u001b[K     |█████████████████████▏          | 163 kB 23.8 MB/s eta 0:00:01\r\u001b[K     |██████████████████████▌         | 174 kB 23.8 MB/s eta 0:00:01\r\u001b[K     |███████████████████████▉        | 184 kB 23.8 MB/s eta 0:00:01\r\u001b[K     |█████████████████████████▏      | 194 kB 23.8 MB/s eta 0:00:01\r\u001b[K     |██████████████████████████▌     | 204 kB 23.8 MB/s eta 0:00:01\r\u001b[K     |███████████████████████████▉    | 215 kB 23.8 MB/s eta 0:00:01\r\u001b[K     |█████████████████████████████▏  | 225 kB 23.8 MB/s eta 0:00:01\r\u001b[K     |██████████████████████████████▍ | 235 kB 23.8 MB/s eta 0:00:01\r\u001b[K     |███████████████████████████████▊| 245 kB 23.8 MB/s eta 0:00:01\r\u001b[K     |████████████████████████████████| 247 kB 23.8 MB/s \n",
            "\u001b[K     |████████████████████████████████| 41 kB 176 kB/s \n",
            "\u001b[K     |████████████████████████████████| 98 kB 6.5 MB/s \n",
            "\u001b[K     |████████████████████████████████| 4.5 MB 51.7 MB/s \n",
            "\u001b[K     |████████████████████████████████| 832 kB 49.1 MB/s \n",
            "\u001b[K     |████████████████████████████████| 54 kB 1.8 MB/s \n",
            "\u001b[K     |████████████████████████████████| 3.6 MB 46.6 MB/s \n",
            "\u001b[?25h  Building wheel for fbpca (setup.py) ... \u001b[?25l\u001b[?25hdone\n",
            "  Building wheel for memoization (setup.py) ... \u001b[?25l\u001b[?25hdone\n",
            "  Building wheel for oktopus (setup.py) ... \u001b[?25l\u001b[?25hdone\n"
          ]
        }
      ],
      "source": [
        "!pip install lightkurve --quiet"
      ]
    },
    {
      "cell_type": "markdown",
      "metadata": {
        "id": "POdWZaWYz6mo"
      },
      "source": [
        "# **Import**"
      ]
    },
    {
      "cell_type": "code",
      "execution_count": null,
      "metadata": {
        "id": "tNyULezyzhDW"
      },
      "outputs": [],
      "source": [
        "import matplotlib.pyplot as plt\n",
        "import pandas as pd\n",
        "import matplotlib \n",
        "import lightkurve as lk\n",
        "import numpy as np\n",
        "from astropy.convolution import convolve, Box1DKernel\n",
        "import seaborn as sb\n",
        "\n",
        "matplotlib.rcParams['figure.figsize'] = (15,8)\n",
        "sb.set_style('darkgrid')"
      ]
    },
    {
      "cell_type": "markdown",
      "metadata": {
        "id": "S1MuBoWOzJPF"
      },
      "source": [
        "# code\n"
      ]
    },
    {
      "cell_type": "code",
      "execution_count": null,
      "metadata": {
        "id": "qtfw-JkozKoC"
      },
      "outputs": [],
      "source": [
        "df = pd.read_csv('kepler_quarter_9.csv')"
      ]
    },
    {
      "cell_type": "code",
      "execution_count": null,
      "metadata": {
        "id": "8Yz5TppLzY5s"
      },
      "outputs": [],
      "source": [
        "df_test = df[:5000]"
      ]
    },
    {
      "cell_type": "code",
      "execution_count": null,
      "metadata": {
        "id": "tE1vXpeGzdXS"
      },
      "outputs": [],
      "source": [
        "flr_list = []\n",
        "logg_list = []\n",
        "for id in df_test['Dataset Name']:\n",
        "  name    = id[:13]\n",
        "  source  = lk.search_lightcurve(name, author=\"Kepler\", cadence=\"long\",quarter = 9).download()\n",
        "  rem_out = source.remove_outliers(sigma_upper = 2.5).normalize()\n",
        "\n",
        "  pg      = rem_out.to_periodogram(normalization='psd')\n",
        "  seismo  = pg.flatten().to_seismology() \n",
        "  seismo.estimate_numax() \n",
        "  logg = seismo.estimate_logg()\n",
        "\n",
        "  logg_list.append(logg.value)   \n",
        "\n",
        "\n",
        "  index=50\n",
        "  ind=250            \n",
        "  flux    = rem_out.flux.value\n",
        "  time    = rem_out.time.value\n",
        "  smoothed_signal = convolve(flux, Box1DKernel(16))\n",
        "  flkr    = flux[index:-ind]-smoothed_signal[index:-ind]\n",
        "  flr     = np.sqrt(np.mean(flkr**2))*1e3\n",
        "\n",
        "  flr_list.append(flr)"
      ]
    },
    {
      "cell_type": "code",
      "execution_count": null,
      "metadata": {
        "id": "Ai-xpq7Ozr6t",
        "colab": {
          "base_uri": "https://localhost:8080/",
          "height": 423
        },
        "outputId": "edbfe604-bdf2-42d2-dbc2-3d2f335651f9"
      },
      "outputs": [
        {
          "output_type": "execute_result",
          "data": {
            "text/html": [
              "\n",
              "  <div id=\"df-2a571379-1309-4980-bc0b-e4cb4bd5a5ce\">\n",
              "    <div class=\"colab-df-container\">\n",
              "      <div>\n",
              "<style scoped>\n",
              "    .dataframe tbody tr th:only-of-type {\n",
              "        vertical-align: middle;\n",
              "    }\n",
              "\n",
              "    .dataframe tbody tr th {\n",
              "        vertical-align: top;\n",
              "    }\n",
              "\n",
              "    .dataframe thead th {\n",
              "        text-align: right;\n",
              "    }\n",
              "</style>\n",
              "<table border=\"1\" class=\"dataframe\">\n",
              "  <thead>\n",
              "    <tr style=\"text-align: right;\">\n",
              "      <th></th>\n",
              "      <th>Flkr</th>\n",
              "      <th>Log G</th>\n",
              "    </tr>\n",
              "  </thead>\n",
              "  <tbody>\n",
              "    <tr>\n",
              "      <th>9</th>\n",
              "      <td>0.086081</td>\n",
              "      <td>3.939</td>\n",
              "    </tr>\n",
              "    <tr>\n",
              "      <th>48</th>\n",
              "      <td>0.082350</td>\n",
              "      <td>4.215</td>\n",
              "    </tr>\n",
              "    <tr>\n",
              "      <th>50</th>\n",
              "      <td>0.087654</td>\n",
              "      <td>4.211</td>\n",
              "    </tr>\n",
              "    <tr>\n",
              "      <th>54</th>\n",
              "      <td>0.090324</td>\n",
              "      <td>4.006</td>\n",
              "    </tr>\n",
              "    <tr>\n",
              "      <th>79</th>\n",
              "      <td>0.090274</td>\n",
              "      <td>3.766</td>\n",
              "    </tr>\n",
              "    <tr>\n",
              "      <th>...</th>\n",
              "      <td>...</td>\n",
              "      <td>...</td>\n",
              "    </tr>\n",
              "    <tr>\n",
              "      <th>4790</th>\n",
              "      <td>0.092918</td>\n",
              "      <td>4.189</td>\n",
              "    </tr>\n",
              "    <tr>\n",
              "      <th>4825</th>\n",
              "      <td>0.095294</td>\n",
              "      <td>4.196</td>\n",
              "    </tr>\n",
              "    <tr>\n",
              "      <th>4868</th>\n",
              "      <td>0.089167</td>\n",
              "      <td>4.161</td>\n",
              "    </tr>\n",
              "    <tr>\n",
              "      <th>4918</th>\n",
              "      <td>0.089361</td>\n",
              "      <td>4.150</td>\n",
              "    </tr>\n",
              "    <tr>\n",
              "      <th>4971</th>\n",
              "      <td>0.079612</td>\n",
              "      <td>4.170</td>\n",
              "    </tr>\n",
              "  </tbody>\n",
              "</table>\n",
              "<p>127 rows × 2 columns</p>\n",
              "</div>\n",
              "      <button class=\"colab-df-convert\" onclick=\"convertToInteractive('df-2a571379-1309-4980-bc0b-e4cb4bd5a5ce')\"\n",
              "              title=\"Convert this dataframe to an interactive table.\"\n",
              "              style=\"display:none;\">\n",
              "        \n",
              "  <svg xmlns=\"http://www.w3.org/2000/svg\" height=\"24px\"viewBox=\"0 0 24 24\"\n",
              "       width=\"24px\">\n",
              "    <path d=\"M0 0h24v24H0V0z\" fill=\"none\"/>\n",
              "    <path d=\"M18.56 5.44l.94 2.06.94-2.06 2.06-.94-2.06-.94-.94-2.06-.94 2.06-2.06.94zm-11 1L8.5 8.5l.94-2.06 2.06-.94-2.06-.94L8.5 2.5l-.94 2.06-2.06.94zm10 10l.94 2.06.94-2.06 2.06-.94-2.06-.94-.94-2.06-.94 2.06-2.06.94z\"/><path d=\"M17.41 7.96l-1.37-1.37c-.4-.4-.92-.59-1.43-.59-.52 0-1.04.2-1.43.59L10.3 9.45l-7.72 7.72c-.78.78-.78 2.05 0 2.83L4 21.41c.39.39.9.59 1.41.59.51 0 1.02-.2 1.41-.59l7.78-7.78 2.81-2.81c.8-.78.8-2.07 0-2.86zM5.41 20L4 18.59l7.72-7.72 1.47 1.35L5.41 20z\"/>\n",
              "  </svg>\n",
              "      </button>\n",
              "      \n",
              "  <style>\n",
              "    .colab-df-container {\n",
              "      display:flex;\n",
              "      flex-wrap:wrap;\n",
              "      gap: 12px;\n",
              "    }\n",
              "\n",
              "    .colab-df-convert {\n",
              "      background-color: #E8F0FE;\n",
              "      border: none;\n",
              "      border-radius: 50%;\n",
              "      cursor: pointer;\n",
              "      display: none;\n",
              "      fill: #1967D2;\n",
              "      height: 32px;\n",
              "      padding: 0 0 0 0;\n",
              "      width: 32px;\n",
              "    }\n",
              "\n",
              "    .colab-df-convert:hover {\n",
              "      background-color: #E2EBFA;\n",
              "      box-shadow: 0px 1px 2px rgba(60, 64, 67, 0.3), 0px 1px 3px 1px rgba(60, 64, 67, 0.15);\n",
              "      fill: #174EA6;\n",
              "    }\n",
              "\n",
              "    [theme=dark] .colab-df-convert {\n",
              "      background-color: #3B4455;\n",
              "      fill: #D2E3FC;\n",
              "    }\n",
              "\n",
              "    [theme=dark] .colab-df-convert:hover {\n",
              "      background-color: #434B5C;\n",
              "      box-shadow: 0px 1px 3px 1px rgba(0, 0, 0, 0.15);\n",
              "      filter: drop-shadow(0px 1px 2px rgba(0, 0, 0, 0.3));\n",
              "      fill: #FFFFFF;\n",
              "    }\n",
              "  </style>\n",
              "\n",
              "      <script>\n",
              "        const buttonEl =\n",
              "          document.querySelector('#df-2a571379-1309-4980-bc0b-e4cb4bd5a5ce button.colab-df-convert');\n",
              "        buttonEl.style.display =\n",
              "          google.colab.kernel.accessAllowed ? 'block' : 'none';\n",
              "\n",
              "        async function convertToInteractive(key) {\n",
              "          const element = document.querySelector('#df-2a571379-1309-4980-bc0b-e4cb4bd5a5ce');\n",
              "          const dataTable =\n",
              "            await google.colab.kernel.invokeFunction('convertToInteractive',\n",
              "                                                     [key], {});\n",
              "          if (!dataTable) return;\n",
              "\n",
              "          const docLinkHtml = 'Like what you see? Visit the ' +\n",
              "            '<a target=\"_blank\" href=https://colab.research.google.com/notebooks/data_table.ipynb>data table notebook</a>'\n",
              "            + ' to learn more about interactive tables.';\n",
              "          element.innerHTML = '';\n",
              "          dataTable['output_type'] = 'display_data';\n",
              "          await google.colab.output.renderOutput(dataTable, element);\n",
              "          const docLink = document.createElement('div');\n",
              "          docLink.innerHTML = docLinkHtml;\n",
              "          element.appendChild(docLink);\n",
              "        }\n",
              "      </script>\n",
              "    </div>\n",
              "  </div>\n",
              "  "
            ],
            "text/plain": [
              "          Flkr  Log G\n",
              "9     0.086081  3.939\n",
              "48    0.082350  4.215\n",
              "50    0.087654  4.211\n",
              "54    0.090324  4.006\n",
              "79    0.090274  3.766\n",
              "...        ...    ...\n",
              "4790  0.092918  4.189\n",
              "4825  0.095294  4.196\n",
              "4868  0.089167  4.161\n",
              "4918  0.089361  4.150\n",
              "4971  0.079612  4.170\n",
              "\n",
              "[127 rows x 2 columns]"
            ]
          },
          "metadata": {},
          "execution_count": 20
        }
      ],
      "source": [
        "flkr_g=pd.DataFrame(zip(flr_list, df_test['Log G'].values), columns=['Flkr','Log G'])\n",
        "flkr_g_pone = flkr_g[flkr_g['Flkr']<0.1]\n",
        "flkr_g_pone"
      ]
    },
    {
      "cell_type": "code",
      "source": [
        "flkr_g_pone.to_csv('f8_g_0to5k_<0.1.csv')"
      ],
      "metadata": {
        "id": "0mEQbyja-FSL"
      },
      "execution_count": null,
      "outputs": []
    },
    {
      "cell_type": "code",
      "source": [
        "df_test['flicker']= flr_list"
      ],
      "metadata": {
        "colab": {
          "base_uri": "https://localhost:8080/"
        },
        "id": "z50nmcvB-GYk",
        "outputId": "5960598f-2228-41c5-e49e-3ad68474a012"
      },
      "execution_count": null,
      "outputs": [
        {
          "output_type": "stream",
          "name": "stderr",
          "text": [
            "/usr/local/lib/python3.7/dist-packages/ipykernel_launcher.py:1: SettingWithCopyWarning: \n",
            "A value is trying to be set on a copy of a slice from a DataFrame.\n",
            "Try using .loc[row_indexer,col_indexer] = value instead\n",
            "\n",
            "See the caveats in the documentation: https://pandas.pydata.org/pandas-docs/stable/user_guide/indexing.html#returning-a-view-versus-a-copy\n",
            "  \"\"\"Entry point for launching an IPython kernel.\n"
          ]
        }
      ]
    },
    {
      "cell_type": "code",
      "source": [
        "flkr_g.to_csv('f8_g_0to5k.csv')\n",
        "flkr_g"
      ],
      "metadata": {
        "colab": {
          "base_uri": "https://localhost:8080/",
          "height": 423
        },
        "id": "XHXmtn8vBKjB",
        "outputId": "aec37c4e-ed06-4bbd-f3ca-cc8c2ab0a7ba"
      },
      "execution_count": null,
      "outputs": [
        {
          "output_type": "execute_result",
          "data": {
            "text/html": [
              "\n",
              "  <div id=\"df-db2950f6-08c7-4694-87f2-12b3a3ba8a53\">\n",
              "    <div class=\"colab-df-container\">\n",
              "      <div>\n",
              "<style scoped>\n",
              "    .dataframe tbody tr th:only-of-type {\n",
              "        vertical-align: middle;\n",
              "    }\n",
              "\n",
              "    .dataframe tbody tr th {\n",
              "        vertical-align: top;\n",
              "    }\n",
              "\n",
              "    .dataframe thead th {\n",
              "        text-align: right;\n",
              "    }\n",
              "</style>\n",
              "<table border=\"1\" class=\"dataframe\">\n",
              "  <thead>\n",
              "    <tr style=\"text-align: right;\">\n",
              "      <th></th>\n",
              "      <th>Flkr</th>\n",
              "      <th>Log G</th>\n",
              "    </tr>\n",
              "  </thead>\n",
              "  <tbody>\n",
              "    <tr>\n",
              "      <th>0</th>\n",
              "      <td>13.524490</td>\n",
              "      <td>3.817</td>\n",
              "    </tr>\n",
              "    <tr>\n",
              "      <th>1</th>\n",
              "      <td>1.152110</td>\n",
              "      <td>4.480</td>\n",
              "    </tr>\n",
              "    <tr>\n",
              "      <th>2</th>\n",
              "      <td>0.152381</td>\n",
              "      <td>4.411</td>\n",
              "    </tr>\n",
              "    <tr>\n",
              "      <th>3</th>\n",
              "      <td>0.411129</td>\n",
              "      <td>4.591</td>\n",
              "    </tr>\n",
              "    <tr>\n",
              "      <th>4</th>\n",
              "      <td>0.157015</td>\n",
              "      <td>3.355</td>\n",
              "    </tr>\n",
              "    <tr>\n",
              "      <th>...</th>\n",
              "      <td>...</td>\n",
              "      <td>...</td>\n",
              "    </tr>\n",
              "    <tr>\n",
              "      <th>4995</th>\n",
              "      <td>0.351892</td>\n",
              "      <td>3.500</td>\n",
              "    </tr>\n",
              "    <tr>\n",
              "      <th>4996</th>\n",
              "      <td>0.426735</td>\n",
              "      <td>4.599</td>\n",
              "    </tr>\n",
              "    <tr>\n",
              "      <th>4997</th>\n",
              "      <td>0.478868</td>\n",
              "      <td>4.886</td>\n",
              "    </tr>\n",
              "    <tr>\n",
              "      <th>4998</th>\n",
              "      <td>0.216729</td>\n",
              "      <td>4.277</td>\n",
              "    </tr>\n",
              "    <tr>\n",
              "      <th>4999</th>\n",
              "      <td>0.263264</td>\n",
              "      <td>4.428</td>\n",
              "    </tr>\n",
              "  </tbody>\n",
              "</table>\n",
              "<p>5000 rows × 2 columns</p>\n",
              "</div>\n",
              "      <button class=\"colab-df-convert\" onclick=\"convertToInteractive('df-db2950f6-08c7-4694-87f2-12b3a3ba8a53')\"\n",
              "              title=\"Convert this dataframe to an interactive table.\"\n",
              "              style=\"display:none;\">\n",
              "        \n",
              "  <svg xmlns=\"http://www.w3.org/2000/svg\" height=\"24px\"viewBox=\"0 0 24 24\"\n",
              "       width=\"24px\">\n",
              "    <path d=\"M0 0h24v24H0V0z\" fill=\"none\"/>\n",
              "    <path d=\"M18.56 5.44l.94 2.06.94-2.06 2.06-.94-2.06-.94-.94-2.06-.94 2.06-2.06.94zm-11 1L8.5 8.5l.94-2.06 2.06-.94-2.06-.94L8.5 2.5l-.94 2.06-2.06.94zm10 10l.94 2.06.94-2.06 2.06-.94-2.06-.94-.94-2.06-.94 2.06-2.06.94z\"/><path d=\"M17.41 7.96l-1.37-1.37c-.4-.4-.92-.59-1.43-.59-.52 0-1.04.2-1.43.59L10.3 9.45l-7.72 7.72c-.78.78-.78 2.05 0 2.83L4 21.41c.39.39.9.59 1.41.59.51 0 1.02-.2 1.41-.59l7.78-7.78 2.81-2.81c.8-.78.8-2.07 0-2.86zM5.41 20L4 18.59l7.72-7.72 1.47 1.35L5.41 20z\"/>\n",
              "  </svg>\n",
              "      </button>\n",
              "      \n",
              "  <style>\n",
              "    .colab-df-container {\n",
              "      display:flex;\n",
              "      flex-wrap:wrap;\n",
              "      gap: 12px;\n",
              "    }\n",
              "\n",
              "    .colab-df-convert {\n",
              "      background-color: #E8F0FE;\n",
              "      border: none;\n",
              "      border-radius: 50%;\n",
              "      cursor: pointer;\n",
              "      display: none;\n",
              "      fill: #1967D2;\n",
              "      height: 32px;\n",
              "      padding: 0 0 0 0;\n",
              "      width: 32px;\n",
              "    }\n",
              "\n",
              "    .colab-df-convert:hover {\n",
              "      background-color: #E2EBFA;\n",
              "      box-shadow: 0px 1px 2px rgba(60, 64, 67, 0.3), 0px 1px 3px 1px rgba(60, 64, 67, 0.15);\n",
              "      fill: #174EA6;\n",
              "    }\n",
              "\n",
              "    [theme=dark] .colab-df-convert {\n",
              "      background-color: #3B4455;\n",
              "      fill: #D2E3FC;\n",
              "    }\n",
              "\n",
              "    [theme=dark] .colab-df-convert:hover {\n",
              "      background-color: #434B5C;\n",
              "      box-shadow: 0px 1px 3px 1px rgba(0, 0, 0, 0.15);\n",
              "      filter: drop-shadow(0px 1px 2px rgba(0, 0, 0, 0.3));\n",
              "      fill: #FFFFFF;\n",
              "    }\n",
              "  </style>\n",
              "\n",
              "      <script>\n",
              "        const buttonEl =\n",
              "          document.querySelector('#df-db2950f6-08c7-4694-87f2-12b3a3ba8a53 button.colab-df-convert');\n",
              "        buttonEl.style.display =\n",
              "          google.colab.kernel.accessAllowed ? 'block' : 'none';\n",
              "\n",
              "        async function convertToInteractive(key) {\n",
              "          const element = document.querySelector('#df-db2950f6-08c7-4694-87f2-12b3a3ba8a53');\n",
              "          const dataTable =\n",
              "            await google.colab.kernel.invokeFunction('convertToInteractive',\n",
              "                                                     [key], {});\n",
              "          if (!dataTable) return;\n",
              "\n",
              "          const docLinkHtml = 'Like what you see? Visit the ' +\n",
              "            '<a target=\"_blank\" href=https://colab.research.google.com/notebooks/data_table.ipynb>data table notebook</a>'\n",
              "            + ' to learn more about interactive tables.';\n",
              "          element.innerHTML = '';\n",
              "          dataTable['output_type'] = 'display_data';\n",
              "          await google.colab.output.renderOutput(dataTable, element);\n",
              "          const docLink = document.createElement('div');\n",
              "          docLink.innerHTML = docLinkHtml;\n",
              "          element.appendChild(docLink);\n",
              "        }\n",
              "      </script>\n",
              "    </div>\n",
              "  </div>\n",
              "  "
            ],
            "text/plain": [
              "           Flkr  Log G\n",
              "0     13.524490  3.817\n",
              "1      1.152110  4.480\n",
              "2      0.152381  4.411\n",
              "3      0.411129  4.591\n",
              "4      0.157015  3.355\n",
              "...         ...    ...\n",
              "4995   0.351892  3.500\n",
              "4996   0.426735  4.599\n",
              "4997   0.478868  4.886\n",
              "4998   0.216729  4.277\n",
              "4999   0.263264  4.428\n",
              "\n",
              "[5000 rows x 2 columns]"
            ]
          },
          "metadata": {},
          "execution_count": 23
        }
      ]
    },
    {
      "cell_type": "code",
      "source": [
        "x = df_test['flicker']\n",
        "y = df_test['Log G']\n",
        "\n",
        "plt.scatter(x,y)\n",
        "plt.xlim(0,2)\n",
        "plt.ylim(5.2, 2)"
      ],
      "metadata": {
        "colab": {
          "base_uri": "https://localhost:8080/",
          "height": 504
        },
        "id": "fdz8uUw6-JRq",
        "outputId": "70f7de0c-5f5c-4146-fb14-e63bab280214"
      },
      "execution_count": null,
      "outputs": [
        {
          "output_type": "execute_result",
          "data": {
            "text/plain": [
              "(5.2, 2.0)"
            ]
          },
          "metadata": {},
          "execution_count": 24
        },
        {
          "output_type": "display_data",
          "data": {
            "image/png": "[encoded data removed]",
            "text/plain": [
              "<Figure size 1080x576 with 1 Axes>"
            ]
          },
          "metadata": {}
        }
      ]
    },
    {
      "cell_type": "code",
      "source": [
        "x = flkr_g['Flkr']\n",
        "y = flkr_g['Log G']\n",
        "\n",
        "plt.scatter(x,y)\n",
        "plt.xlim(0,.12)\n",
        "plt.ylim(5,3.5)"
      ],
      "metadata": {
        "colab": {
          "base_uri": "https://localhost:8080/",
          "height": 500
        },
        "id": "NnGF1HA_-L1R",
        "outputId": "89d46c44-47d3-4bbe-fd9e-2a6f4c01cf31"
      },
      "execution_count": null,
      "outputs": [
        {
          "output_type": "execute_result",
          "data": {
            "text/plain": [
              "(5.0, 3.5)"
            ]
          },
          "metadata": {},
          "execution_count": 26
        },
        {
          "output_type": "display_data",
          "data": {
            "image/png": "[encoded data removed]",
            "text/plain": [
              "<Figure size 1080x576 with 1 Axes>"
            ]
          },
          "metadata": {}
        }
      ]
    }
  ]
}